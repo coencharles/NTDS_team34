{
 "cells": [
  {
   "cell_type": "markdown",
   "metadata": {},
   "source": [
    "# [NTDS'18] Team project\n",
    "[ntds'18]: https://github.com/mdeff/ntds_2018\n"
   ]
  },
  {
   "cell_type": "markdown",
   "metadata": {},
   "source": [
    "## Students\n",
    "\n",
    "* Team: `<34>`\n",
    "* Students: `<Valentin Morel, Xavier Sieber, Cédric Schumacher, Charles-Théophile Coen>`\n",
    "* Dataset: `<Terrorist attack>`"
   ]
  },
  {
   "cell_type": "markdown",
   "metadata": {},
   "source": [
    "The purpose of this file is to import and create the basic elements that are used in our project. Matrices such as the features, adjacency or labels are computed in this file. This file should be run before any other manipulations. "
   ]
  },
  {
   "cell_type": "code",
   "execution_count": 1,
   "metadata": {},
   "outputs": [],
   "source": [
    "%matplotlib inline\n",
    "\n",
    "import numpy as np\n",
    "import networkx as nx\n",
    "import pandas as pd\n",
    "from scipy import sparse\n",
    "import scipy.sparse.linalg\n",
    "from matplotlib import pyplot as plt\n",
    "from pyunlocbox import functions, solvers\n",
    "from scipy.spatial.distance import pdist, squareform"
   ]
  },
  {
   "cell_type": "code",
   "execution_count": 2,
   "metadata": {},
   "outputs": [],
   "source": [
    "# Features\n",
    "features = pd.read_csv('TerrorAttack/terrorist_attack.nodes',delim_whitespace=' ',header = None,engine='python')\n",
    "features = features.drop( columns=0)\n",
    "features = features.drop(columns=107)\n",
    "np.save('features_matrix', features)"
   ]
  },
  {
   "cell_type": "code",
   "execution_count": 3,
   "metadata": {},
   "outputs": [],
   "source": [
    "# Labels\n",
    "labels = pd.read_csv('TerrorAttack/terrorist_attack.nodes',delim_whitespace=' ',header = None,engine='python')[[107]]\n",
    "labels[107] = labels[107].map(lambda x: x.lstrip('http://counterterror.mindswap.org2005/ict_events.owl#'))\n",
    "#dico = {'Arson':1, 'Bombing':2, 'Kidnapping':3, 'NBCR_Attack':4, 'k':5, 'Weapon_Attack':6}\n",
    "#labels = labels.replace(dico)\n",
    "#labels = np.squeeze(labels).values\n",
    "np.save('labels_vector', labels)"
   ]
  },
  {
   "cell_type": "code",
   "execution_count": 4,
   "metadata": {},
   "outputs": [],
   "source": [
    "# Locations\n",
    "adjacency_location = np.load('adjacency_location.npy')\n",
    "n_nodes = len(adjacency_location)\n",
    "\n",
    "location = np.zeros(n_nodes)\n",
    "number_loc = 1\n",
    "location[0] = number_loc\n",
    "for i in range(0,n_nodes):\n",
    "    if i != 0:\n",
    "        if not location[i] in location[0:i]:\n",
    "            number_loc += 1\n",
    "            location[i] = number_loc\n",
    "    #if not location[i] in location[0:i]:\n",
    "    for j in range(i,n_nodes):\n",
    "        if adjacency_location[i,j] == 1:\n",
    "            location[j] = location[i]\n",
    "np.save('location_vector', location)"
   ]
  },
  {
   "cell_type": "code",
   "execution_count": 196,
   "metadata": {},
   "outputs": [],
   "source": [
    "# Distance matrix – 106 features\n",
    "X = features\n",
    "distances = pdist(X.values, metric='cosine')\n",
    "kernel_width = distances.mean()\n",
    "weights = np.exp(-distances**2 / kernel_width**2)\n",
    "adjacency_weights = squareform(weights) \n",
    "np.save('adjacency_weights_matrix', adjacency_weights)\n",
    "adjacency_weights[adjacency_weights < 0.7] = 0\n",
    "adjacency_weights[adjacency_weights >= 0.7] = 1"
   ]
  },
  {
   "cell_type": "code",
   "execution_count": 180,
   "metadata": {},
   "outputs": [],
   "source": [
    "#adjacency_weights[adjacency_weights < np.mean(weights)] = 0\n",
    "#adjacency_weights[adjacency_weights >= np.mean(weights)] = 1\n",
    "\n",
    "degree_eigen = adjacency_weights.sum(axis=0)\n",
    "adjacency_weights = sparse.csr_matrix(adjacency_weights)\n",
    "\n",
    "D_eigen = sparse.diags(degree_eigen) # Degree matrix\n",
    "D2_eigen = sparse.diags(1/np.sqrt(degree_eigen)) # Represent D^(-1/2)\n",
    "\n",
    "laplacian_combinatorial_weights = D_eigen - adjacency_weights # Your code here.\n",
    "laplacian_normalized_weights =  D2_eigen.dot(laplacian_combinatorial_weights.dot(D2_eigen)) # Your code here.\n",
    "\n",
    "val, vect = np.linalg.eigh(laplacian_normalized_weights.A)\n",
    "a = np.array(vect[:,1])\n",
    "b = np.array(vect[:,2])\n",
    "c = np.array(vect[:,3])\n",
    "d = np.array(vect[:,4])\n",
    "new_features = np.column_stack((a,b,c,d))\n",
    "\n",
    "new_distances = pdist(new_features, metric='cosine')\n",
    "new_kernel_width = new_distances.mean()\n",
    "weights = np.exp(-new_distances**2 / new_kernel_width**2)\n",
    "new_adjacency_weights = squareform(weights)\n",
    "np.save('new_adjacency_weights_matrix', new_adjacency_weights)"
   ]
  },
  {
   "cell_type": "code",
   "execution_count": 197,
   "metadata": {},
   "outputs": [
    {
     "data": {
      "text/plain": [
       "<matplotlib.colorbar.Colorbar at 0x102a3fa668>"
      ]
     },
     "execution_count": 197,
     "metadata": {},
     "output_type": "execute_result"
    },
    {
     "data": {
      "image/png": "[encoded data removed]",
      "text/plain": [
       "<Figure size 432x288 with 2 Axes>"
      ]
     },
     "metadata": {},
     "output_type": "display_data"
    }
   ],
   "source": [
    "plt.imshow(adjacency_weights)\n",
    "plt.colorbar()"
   ]
  },
  {
   "cell_type": "code",
   "execution_count": null,
   "metadata": {},
   "outputs": [],
   "source": []
  }
 ],
 "metadata": {
  "kernelspec": {
   "display_name": "Python 3",
   "language": "python",
   "name": "python3"
  },
  "language_info": {
   "codemirror_mode": {
    "name": "ipython",
    "version": 3
   },
   "file_extension": ".py",
   "mimetype": "text/x-python",
   "name": "python",
   "nbconvert_exporter": "python",
   "pygments_lexer": "ipython3",
   "version": "3.6.6"
  }
 },
 "nbformat": 4,
 "nbformat_minor": 2
}
