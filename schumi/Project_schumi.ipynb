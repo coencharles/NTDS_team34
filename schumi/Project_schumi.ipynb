{
 "cells": [
  {
   "cell_type": "markdown",
   "metadata": {},
   "source": [
    "# [NTDS'18] Team project\n",
    "[ntds'18]: https://github.com/mdeff/ntds_2018"
   ]
  },
  {
   "cell_type": "markdown",
   "metadata": {},
   "source": [
    "## Students\n",
    "\n",
    "* Team: `<34>`\n",
    "* Students: `<Valentin Morel, Xavier Sieber, Cédric Schumacher, Charles-Théophile Coen>`\n",
    "* Dataset: `<Terrorist attack>`"
   ]
  },
  {
   "cell_type": "code",
   "execution_count": 34,
   "metadata": {},
   "outputs": [],
   "source": [
    "%matplotlib inline\n",
    "\n",
    "import numpy as np\n",
    "import networkx as nx\n",
    "import pandas as pd\n",
    "from scipy import sparse\n",
    "import scipy.sparse.linalg\n",
    "from matplotlib import pyplot as plt\n",
    "from mpl_toolkits.mplot3d import Axes3D\n",
    "from matplotlib.animation import FuncAnimation\n",
    "from pyunlocbox import functions, solvers\n",
    "from scipy.optimize import minimize as opt\n",
    "from scipy.spatial.distance import pdist, squareform\n",
    "from sklearn.cluster import KMeans, SpectralClustering, Birch\n",
    "from sklearn.mixture import GaussianMixture\n",
    "import hdbscan\n",
    "from sklearn.datasets import make_blobs\n",
    "from sklearn import metrics"
   ]
  },
  {
   "cell_type": "code",
   "execution_count": 35,
   "metadata": {},
   "outputs": [],
   "source": [
    "## Loading of files\n",
    "\n",
    "# Features: mean of 126; std of 149\n",
    "features = np.load('features_matrix.npy')\n",
    "\n",
    "# Labels\n",
    "labels =  np.load('labels_vector.npy')\n",
    "\n",
    "# Location\n",
    "adjacency_location = np.load('adjacency_location.npy')\n",
    "n_nodes = len(adjacency_location)\n",
    "location = np.load('location_vector.npy')\n",
    "\n",
    "# Weighted adjacency matrix of the distance from features\n",
    "adjacency_weights = np.load('adjacency_weights_matrix.npy')\n",
    "\n",
    "gt = np.load('gt.npy')\n",
    "x = np.load('projection_matrix.npy')"
   ]
  },
  {
   "cell_type": "code",
   "execution_count": 36,
   "metadata": {},
   "outputs": [],
   "source": [
    "## Definition of fonctions\n",
    "\n",
    "def distance_weighted(i,j):\n",
    "    return adjacency_weights[i,j]"
   ]
  },
  {
   "cell_type": "code",
   "execution_count": 37,
   "metadata": {},
   "outputs": [
    {
     "data": {
      "image/png": "[encoded data removed]",
      "text/plain": [
       "<Figure size 432x288 with 1 Axes>"
      ]
     },
     "metadata": {},
     "output_type": "display_data"
    }
   ],
   "source": [
    "# Visualization of the distrubution of the distances of features\n",
    "weights_hist = np.zeros(int(n_nodes*(n_nodes-1)/2))\n",
    "n = 0\n",
    "for i in range(0,n_nodes):\n",
    "    for j in range(i+1,n_nodes):\n",
    "        weights_hist[n] = adjacency_weights[i,j]\n",
    "        n += 1\n",
    "plt.hist(weights_hist, bins = np.linspace(0,1,100))   \n",
    "plt.show()"
   ]
  },
  {
   "cell_type": "markdown",
   "metadata": {},
   "source": [
    "##### **Remarks**\n",
    "The adjacency_weights matrix allow us to picture the difference between two features. The smaller the value between two node's features the more similar they are in terms of their features."
   ]
  },
  {
   "cell_type": "code",
   "execution_count": 38,
   "metadata": {},
   "outputs": [],
   "source": [
    "unique_ele, unique_indices, unique_counts = np.unique(location, return_index = True, return_counts = True)\n",
    "mapping = {}\n",
    "for i in range(0,len(unique_ele)):\n",
    "    if unique_counts[i] > 1:\n",
    "        mapping[unique_ele[i]] = {'numbers':unique_counts[i], 'indices':np.where(location == unique_ele[i])[0]}\n",
    "        \n",
    "\n",
    "# List of keys of the dictionnary\n",
    "keys = list(mapping.keys())\n",
    "# List of values of dict containing numbers and indices of nodes with the same location\n",
    "values = list(mapping.values()) \n",
    "# List of all the indexes of locations with more than one attack\n",
    "index_attack = []\n",
    "for i in range(0,len(keys)):\n",
    "    index_attack.append(list(mapping[keys[i]]['indices']))\n",
    "    \n",
    "index_attack = [val for sublist in index_attack for val in sublist]   "
   ]
  },
  {
   "cell_type": "code",
   "execution_count": 39,
   "metadata": {},
   "outputs": [],
   "source": [
    "weights_dict = {}\n",
    "for i in keys:\n",
    "    num_nodes_same_loc = mapping[i]['numbers']\n",
    "    distances = np.zeros(int((num_nodes_same_loc)*(num_nodes_same_loc-1)/2))\n",
    "    index = 0\n",
    "    for j in range(0,num_nodes_same_loc):\n",
    "        for k in range(j+1,num_nodes_same_loc):\n",
    "            distances[index] = distance_weighted(mapping[i]['indices'][j],mapping[i]['indices'][k])\n",
    "            index += 1\n",
    "\n",
    "    weights_dict[i] = {'distances':distances, 'mean': np.mean(distances), 'std': np.std(distances)}"
   ]
  },
  {
   "cell_type": "code",
   "execution_count": 40,
   "metadata": {},
   "outputs": [],
   "source": [
    "labels_dict = {}\n",
    "for i in keys:\n",
    "    num_nodes_same_loc = mapping[i]['numbers']\n",
    "    lab = []\n",
    "    for j in range(0,num_nodes_same_loc):\n",
    "        lab.append(labels[mapping[i]['indices'][j]][0])\n",
    "\n",
    "    labels_dict[i] = lab\n",
    "\n",
    "recap_label = {}\n",
    "for i in keys:\n",
    "    unique_ele, unique_counts = np.unique(labels_dict[i], return_counts = True)\n",
    "    total_attacks = mapping[i]['numbers']\n",
    "    list_attacks = [];\n",
    "    for j in range(0,len(unique_ele)):\n",
    "        list_attacks.append({unique_ele[j]: np.round(unique_counts[j]/total_attacks*100)})\n",
    "\n",
    "    list_attacks.append(total_attacks)\n",
    "    recap_label[i] =  list_attacks"
   ]
  },
  {
   "cell_type": "code",
   "execution_count": 41,
   "metadata": {},
   "outputs": [],
   "source": [
    "def plot_recap_label(k):\n",
    "    \n",
    "    numb = np.size(recap_label[k])-1\n",
    "    x = []\n",
    "    y = []\n",
    "    for i in range(0,numb):\n",
    "        x.append(list(recap_label[k][i].keys()))\n",
    "        y.append(list(recap_label[k][i].values()))\n",
    "        \n",
    "    x = [val for sublist in x for val in sublist]\n",
    "    y = [val for sublist in y for val in sublist] \n",
    "    \n",
    "    plt.bar(x,y)\n",
    "    plt.title('Distribution of attacks for location %i. Number of attacks at this location: %i.' %(k ,recap_label[k][-1]))\n",
    "    plt.show()\n",
    "    return"
   ]
  },
  {
   "cell_type": "markdown",
   "metadata": {},
   "source": [
    "##### **Remarks**\n",
    "The *mapping* dictionary contains the locations where multiple attacks were perpetrated. For each location, the number of attacks(n) is specified and the indices of the nodes are stored in an array.\n",
    "\n",
    "The *weights_dict* dictionary contains the weighted distance in terms of features between every attacks perpetrated at the same location. The distances are stored in an array of *(n-1)n/2* values where n is the number of attacks at this location. The goal of this dictionary is to find any links between the colocated attacks and their features.\n",
    "\n",
    "The *labels_dict* dictionary contains the type of attacks for the attacks perpetrated at the same location. *recap_label* dictionary is a summary of *labels_dict* with only the percentage for each type of attack. The goal of these dictionaries is to find any links between the colocated attacks and the type of attack."
   ]
  },
  {
   "cell_type": "code",
   "execution_count": 42,
   "metadata": {},
   "outputs": [
    {
     "data": {
      "image/png": "[encoded data removed]",
      "text/plain": [
       "<Figure size 1296x720 with 1 Axes>"
      ]
     },
     "metadata": {},
     "output_type": "display_data"
    }
   ],
   "source": [
    "x = list(weights_dict.keys())\n",
    "y = np.zeros(len(x))\n",
    "yerr = np.zeros(len(x))\n",
    "index = 0\n",
    "for i in x:\n",
    "    y[index] = weights_dict[i]['mean']\n",
    "    yerr[index] = weights_dict[i]['std']\n",
    "    index += 1\n",
    "\n",
    "plt.figure(figsize=(18,10))\n",
    "plt.errorbar(np.linspace(1,len(x),len(x)),y,yerr, linestyle='None',marker='x', markersize= 8,\n",
    "                    markeredgecolor = [1,0,0],capsize=5)\n",
    "plt.title('Mean value of weighted distances for locations with more than one attack')\n",
    "plt.show()"
   ]
  },
  {
   "cell_type": "code",
   "execution_count": 10,
   "metadata": {},
   "outputs": [
    {
     "data": {
      "image/png": "[encoded data removed]",
      "text/plain": [
       "<Figure size 432x288 with 1 Axes>"
      ]
     },
     "metadata": {},
     "output_type": "display_data"
    },
    {
     "data": {
      "text/plain": [
       "(None,\n",
       " {4.0: [{'Arson': 50.0}, {'Weapon_Attack': 50.0}, 2],\n",
       "  11.0: [{'Arson': 20.0}, {'Bombing': 80.0}, 5],\n",
       "  14.0: [{'Arson': 50.0}, {'Bombing': 50.0}, 2],\n",
       "  15.0: [{'Arson': 33.0}, {'Bombing': 67.0}, 3],\n",
       "  21.0: [{'Arson': 6.0}, {'Bombing': 56.0}, {'Weapon_Attack': 38.0}, 16],\n",
       "  54.0: [{'Bombing': 94.0}, {'Weapon_Attack': 6.0}, 16],\n",
       "  62.0: [{'Bombing': 100.0}, 5],\n",
       "  63.0: [{'Bombing': 67.0}, {'Weapon_Attack': 33.0}, 3],\n",
       "  83.0: [{'Bombing': 33.0}, {'Weapon_Attack': 67.0}, 3],\n",
       "  86.0: [{'Bombing': 100.0}, 5],\n",
       "  107.0: [{'Bombing': 100.0}, 5],\n",
       "  116.0: [{'Bombing': 50.0}, {'Weapon_Attack': 50.0}, 2],\n",
       "  127.0: [{'Bombing': 100.0}, 2],\n",
       "  135.0: [{'Bombing': 33.0}, {'Weapon_Attack': 67.0}, 3],\n",
       "  146.0: [{'Bombing': 50.0}, {'Weapon_Attack': 50.0}, 2],\n",
       "  162.0: [{'Bombing': 67.0}, {'Weapon_Attack': 33.0}, 3],\n",
       "  182.0: [{'Bombing': 100.0}, 7],\n",
       "  207.0: [{'Bombing': 50.0}, {'Weapon_Attack': 50.0}, 4],\n",
       "  208.0: [{'Bombing': 50.0}, {'Kidnapping': 50.0}, 2],\n",
       "  215.0: [{'Bombing': 100.0}, 2],\n",
       "  224.0: [{'Bombing': 17.0}, {'Kidnapping': 17.0}, {'Weapon_Attack': 67.0}, 6],\n",
       "  230.0: [{'Bombing': 50.0}, {'Weapon_Attack': 50.0}, 2],\n",
       "  243.0: [{'Bombing': 33.0}, {'Weapon_Attack': 67.0}, 3],\n",
       "  252.0: [{'Bombing': 80.0}, {'Weapon_Attack': 20.0}, 10],\n",
       "  253.0: [{'Bombing': 50.0}, {'Kidnapping': 50.0}, 2],\n",
       "  257.0: [{'Bombing': 50.0}, {'Kidnapping': 50.0}, 2],\n",
       "  260.0: [{'Bombing': 100.0}, 8],\n",
       "  267.0: [{'Bombing': 50.0}, {'Weapon_Attack': 50.0}, 2],\n",
       "  282.0: [{'Bombing': 25.0}, {'Kidnapping': 50.0}, {'Weapon_Attack': 25.0}, 4],\n",
       "  289.0: [{'Bombing': 50.0}, {'Kidnapping': 50.0}, 4],\n",
       "  295.0: [{'Bombing': 67.0}, {'Weapon_Attack': 33.0}, 3],\n",
       "  300.0: [{'Bombing': 50.0}, {'Kidnapping': 50.0}, 2],\n",
       "  304.0: [{'Bombing': 50.0}, {'Weapon_Attack': 50.0}, 2],\n",
       "  315.0: [{'Bombing': 67.0}, {'Weapon_Attack': 33.0}, 3],\n",
       "  321.0: [{'Bombing': 50.0}, {'Weapon_Attack': 50.0}, 2],\n",
       "  323.0: [{'Bombing': 100.0}, 2],\n",
       "  342.0: [{'Bombing': 100.0}, 2],\n",
       "  344.0: [{'Bombing': 100.0}, 4],\n",
       "  347.0: [{'Bombing': 100.0}, 2],\n",
       "  371.0: [{'Bombing': 50.0}, {'Weapon_Attack': 50.0}, 2],\n",
       "  381.0: [{'Bombing': 50.0}, {'Kidnapping': 50.0}, 2],\n",
       "  396.0: [{'Bombing': 25.0}, {'NBCR_Attack': 75.0}, 4],\n",
       "  419.0: [{'Bombing': 50.0}, {'Weapon_Attack': 50.0}, 2],\n",
       "  422.0: [{'Bombing': 50.0}, {'Weapon_Attack': 50.0}, 2],\n",
       "  423.0: [{'Bombing': 62.0}, {'Weapon_Attack': 38.0}, 8],\n",
       "  424.0: [{'Bombing': 50.0}, {'Weapon_Attack': 50.0}, 2],\n",
       "  429.0: [{'Bombing': 100.0}, 4],\n",
       "  436.0: [{'Bombing': 33.0}, {'Weapon_Attack': 67.0}, 3],\n",
       "  449.0: [{'Bombing': 100.0}, 2],\n",
       "  463.0: [{'Bombing': 50.0}, {'Weapon_Attack': 50.0}, 2],\n",
       "  499.0: [{'Bombing': 100.0}, 3],\n",
       "  526.0: [{'Kidnapping': 100.0}, 2],\n",
       "  541.0: [{'Kidnapping': 100.0}, 4],\n",
       "  543.0: [{'Kidnapping': 100.0}, 2],\n",
       "  546.0: [{'Kidnapping': 50.0}, {'Weapon_Attack': 50.0}, 2],\n",
       "  593.0: [{'Kidnapping': 20.0}, {'Weapon_Attack': 80.0}, 5],\n",
       "  636.0: [{'Kidnapping': 100.0}, 2],\n",
       "  641.0: [{'Kidnapping': 50.0}, {'Weapon_Attack': 50.0}, 2],\n",
       "  700.0: [{'Weapon_Attack': 100.0}, 2],\n",
       "  719.0: [{'Weapon_Attack': 100.0}, 6],\n",
       "  725.0: [{'Weapon_Attack': 100.0}, 2],\n",
       "  773.0: [{'Weapon_Attack': 100.0}, 2],\n",
       "  793.0: [{'Weapon_Attack': 100.0}, 2],\n",
       "  799.0: [{'Weapon_Attack': 100.0}, 2],\n",
       "  801.0: [{'Weapon_Attack': 100.0}, 3],\n",
       "  804.0: [{'Weapon_Attack': 100.0}, 2],\n",
       "  818.0: [{'Weapon_Attack': 100.0}, 2],\n",
       "  828.0: [{'Weapon_Attack': 100.0}, 2],\n",
       "  840.0: [{'Weapon_Attack': 100.0}, 2],\n",
       "  841.0: [{'Weapon_Attack': 100.0}, 2],\n",
       "  892.0: [{'Weapon_Attack': 100.0}, 2],\n",
       "  904.0: [{'Weapon_Attack': 100.0}, 2],\n",
       "  934.0: [{'Weapon_Attack': 100.0}, 2],\n",
       "  940.0: [{'Weapon_Attack': 100.0}, 3],\n",
       "  950.0: [{'Weapon_Attack': 100.0}, 2],\n",
       "  967.0: [{'Weapon_Attack': 100.0}, 2],\n",
       "  981.0: [{'Weapon_Attack': 100.0}, 2],\n",
       "  1025.0: [{'Weapon_Attack': 100.0}, 2]})"
      ]
     },
     "execution_count": 10,
     "metadata": {},
     "output_type": "execute_result"
    }
   ],
   "source": [
    "plot_recap_label(21), recap_label"
   ]
  },
  {
   "cell_type": "code",
   "execution_count": 11,
   "metadata": {},
   "outputs": [
    {
     "data": {
      "image/png": "[encoded data removed]",
      "text/plain": [
       "<Figure size 1296x720 with 1 Axes>"
      ]
     },
     "metadata": {},
     "output_type": "display_data"
    }
   ],
   "source": [
    "plt.figure(figsize=(18,10))\n",
    "y_single_attack = np.take(labels,index_attack)\n",
    "y_single_attack = np.reshape(y_single_attack,(y_single_attack.shape[0],1))\n",
    "\n",
    "y_multiple_attack = np.delete(labels,index_attack)\n",
    "y_multiple_attack = np.reshape(y_multiple_attack,(y_multiple_attack.shape[0],1))\n",
    "\n",
    "plt.hist(y_multiple_attack, bins = np.linspace(-1,7,17))\n",
    "plt.hist(y_single_attack, bins = np.linspace(-1,7,17))\n",
    "plt.legend(('Locations with only one attack','Locations with more than one attack'))\n",
    "plt.title('Distribution of types of attack for locations with one or more than one attacks')\n",
    "plt.show()"
   ]
  },
  {
   "cell_type": "markdown",
   "metadata": {},
   "source": [
    "##### **Remarks**\n",
    "\n",
    "We see that the distribution of types of attack is almost the same between the locations with more than one attack (in orange) and the locations with only one attack (blue)"
   ]
  },
  {
   "cell_type": "code",
   "execution_count": 12,
   "metadata": {},
   "outputs": [],
   "source": [
    "## Any ressemblance in terms of features for attacks with same label?\n",
    "# Creation of a dictionnary with the 6 different types of attack and the indices of the nodes with this type of attack\n",
    "\n",
    "unique_ele, unique_indices, unique_counts = np.unique(labels, return_index = True, return_counts = True)\n",
    "dict_labels = {}\n",
    "for i in range(0,len(unique_ele)):\n",
    "    dict_labels[unique_ele[i]] = {'numbers':unique_counts[i], 'indices':np.where(labels == unique_ele[i])[0]}\n",
    "        "
   ]
  },
  {
   "cell_type": "code",
   "execution_count": 13,
   "metadata": {},
   "outputs": [],
   "source": [
    "e, U = np.linalg.eigh(adjacency_weights)"
   ]
  },
  {
   "cell_type": "code",
   "execution_count": 14,
   "metadata": {},
   "outputs": [],
   "source": [
    "mydic = {'Arson':np.array([[1,0,0,0,0,0]]), 'Bombing':np.array([[0,1,0,0,0,0]]), 'Kidnapping':np.array([[0,0,1,0,0,0]]), 'NBCR_Attack':np.array([[0,0,0,1,0,0]]), 'Weapon_Attack':np.array([[0,0,0,0,1,0]]), 'k':np.array([[0,0,0,0,0,1]])}\n",
    "\n",
    "mydic[labels[3][0]]\n",
    "gt = mydic[labels[0][0]]\n",
    "for i in range (1,len(labels)):\n",
    "    gt = np.vstack((gt,mydic[labels[i][0]]))\n",
    "\n",
    "x0 = np.zeros((106,6))"
   ]
  },
  {
   "cell_type": "code",
   "execution_count": 15,
   "metadata": {},
   "outputs": [],
   "source": [
    "def costLS (x,f,gt):\n",
    "    f_=f.astype(float)\n",
    "    gt_=gt.astype(float)\n",
    "    cost=0\n",
    "    length=f_.shape[0]\n",
    "    x=x.reshape((106,6))\n",
    "    #print(f_.shape)\n",
    "    #print(x.shape)\n",
    "    #print(gt_.shape)\n",
    "    \n",
    "    if f_.shape[0] != gt_.shape[0]:\n",
    "        exit('Dim missmatch')\n",
    "    for i in range(0,length):\n",
    "        #print(np.linalg.norm(np.dot(f_[i,:],x)-gt_[i,:]))\n",
    "        tmp=np.linalg.norm(np.dot(f_[i,:],x)-gt_[i,:])\n",
    "        cost += tmp\n",
    "    \n",
    "    #print(cost)\n",
    "    return cost"
   ]
  },
  {
   "cell_type": "code",
   "execution_count": 16,
   "metadata": {},
   "outputs": [],
   "source": [
    "def gradLS(x,f,gt):\n",
    "    f_=f.astype(float)\n",
    "    gt_=gt.astype(float)\n",
    "    grad = np.zeros((106,6))\n",
    "    \n",
    "    for i in range (0,1293):\n",
    "        er=np.dot(f_[i,:],x)-gt_[i,:]\n",
    "        dif=f_[i,:]\n",
    "        dif = dif.reshape((106,1))\n",
    "        grad += 2*dif*er\n",
    "    grad = grad/1293\n",
    "    return grad"
   ]
  },
  {
   "cell_type": "code",
   "execution_count": 17,
   "metadata": {},
   "outputs": [],
   "source": [
    "def grad_descent (x0,f,gt,niter,gam,verbose):\n",
    "    \n",
    "    tmp=x0\n",
    "    for i in range (0,niter):\n",
    "        x_p=tmp-gam*gradLS(tmp,f,gt)\n",
    "        tmp=x_p\n",
    "        if i%verbose==0:\n",
    "            print(costLS(x_p,f,gt))\n",
    "    return x_p\n"
   ]
  },
  {
   "cell_type": "code",
   "execution_count": null,
   "metadata": {},
   "outputs": [],
   "source": [
    "#x=grad_descent(x0,features,gt,10000,0.1,100)"
   ]
  },
  {
   "cell_type": "code",
   "execution_count": null,
   "metadata": {},
   "outputs": [],
   "source": [
    "tot=0\n",
    "for i in range(0,1293):\n",
    "    if np.argmax(gt[i,:])==np.argmax(np.dot(features[i,:],x)):\n",
    "        tot +=1\n",
    "perf=100/1293*tot\n",
    "print(perf)"
   ]
  },
  {
   "cell_type": "code",
   "execution_count": null,
   "metadata": {},
   "outputs": [],
   "source": [
    "print(np.dot(features[200,:],x))\n",
    "gt[200,:]"
   ]
  },
  {
   "cell_type": "code",
   "execution_count": null,
   "metadata": {},
   "outputs": [],
   "source": [
    "plt.hist(x[:,5], bins = np.linspace(0,1,100))   \n",
    "plt.show()"
   ]
  },
  {
   "cell_type": "code",
   "execution_count": null,
   "metadata": {},
   "outputs": [],
   "source": [
    "np.save('projection_matrix',x)\n",
    "np.save('gt',gt)"
   ]
  },
  {
   "cell_type": "code",
   "execution_count": 20,
   "metadata": {},
   "outputs": [],
   "source": [
    "def spectral_clustering (feature,kernel,thf,gt,weighted,Ltype,k,typ):\n",
    "    \n",
    "    #creating adjacency\n",
    "    distances = pdist(feature, metric=kernel)\n",
    "    kernel_width = distances.mean()\n",
    "    weights = np.exp(-distances**2 / kernel_width**2)\n",
    "    #plt.hist(tmp, bins = np.linspace(0,1,100))   \n",
    "    #plt.show()\n",
    "    if weighted==1:\n",
    "        \n",
    "        th=weights.mean()*thf\n",
    "        #print(th)\n",
    "        weights[weights<th]=0\n",
    "        weights[weights>=th]=1\n",
    "    adjacency = squareform(weights) # features identical: weigths = 0; features different: weights >= 1\n",
    "    \n",
    "    #laplacian\n",
    "    degree=adjacency.sum(axis=0)\n",
    "    adjacency = sparse.csr_matrix(adjacency)\n",
    "    \n",
    "    D = sparse.diags(degree)\n",
    "    D_rw=sparse.diags(1/degree)\n",
    "    D_n = sparse.diags(1/np.sqrt(degree))\n",
    "    L = D - adjacency\n",
    "    L_rw = D_rw.dot(L)\n",
    "    L_n = D_n.dot(L.dot(D_n))\n",
    "    \n",
    "    if Ltype=='std':\n",
    "        Lap=L\n",
    "    if Ltype=='rw':\n",
    "        Lap=L_rw\n",
    "    if Ltype=='norm':\n",
    "        Lap=L_n\n",
    "    \n",
    "    #spectral decomposition\n",
    "    e, U = np.linalg.eigh(Lap.A)\n",
    "    \n",
    "    #plot eigenmaps\n",
    "    #plt.figure(figsize=(18,12))\n",
    "    #fig = plt.figure(figsize=(12,12))\n",
    "    #ax = Axes3D(fig)\n",
    "    #ax.scatter(U[:,1],U[:,2],U[:,3],c=np.argmax(gt,axis=1),cmap='rainbow')\n",
    "    #plt.show()\n",
    "    \n",
    "    \n",
    "    #clustering\n",
    "    #sc 2\n",
    "    if typ == 'sc':\n",
    "        my_clust = SpectralClustering(k, affinity='precomputed')\n",
    "    if typ == 'bi':\n",
    "        my_clust = Birch(threshold= 0.8, n_clusters = k)\n",
    "    if typ == 'hd':\n",
    "        my_clust = hdbscan.HDBSCAN(min_cluster_size=k)\n",
    "    if typ == 'km':\n",
    "        my_clust = KMeans(k)\n",
    "    \n",
    "    \n",
    "    #fig3 = plt.figure(figsize=(12,12))\n",
    "    #ax3 = Axes3D(fig3)\n",
    "    #ax3.scatter(U[:,1],U[:,2],U[:,3],c=my_clust.fit_predict(adjacency.A),cmap='rainbow')\n",
    "    \n",
    "    my_clust.fit_predict(adjacency.A)\n",
    "    \n",
    "    return my_clust"
   ]
  },
  {
   "cell_type": "code",
   "execution_count": 23,
   "metadata": {},
   "outputs": [],
   "source": [
    "clus=spectral_clustering(features,'matching',1,gt,0,'norm',6,'bi')\n",
    "\n",
    "#plt.draw()"
   ]
  },
  {
   "cell_type": "code",
   "execution_count": 24,
   "metadata": {},
   "outputs": [],
   "source": [
    "mydic2 = {'Arson':1, 'Bombing':2, 'Kidnapping':3, 'NBCR_Attack':4, 'Weapon_Attack':5, 'k':6}\n",
    "gt2 = (pd.DataFrame(labels).replace(mydic2)).values"
   ]
  },
  {
   "cell_type": "code",
   "execution_count": 25,
   "metadata": {},
   "outputs": [
    {
     "name": "stderr",
     "output_type": "stream",
     "text": [
      "/Users/charlescoen/miniconda3/envs/ntds_2018/lib/python3.6/site-packages/sklearn/metrics/cluster/supervised.py:732: FutureWarning: The behavior of AMI will change in version 0.22. To match the behavior of 'v_measure_score', AMI will use average_method='arithmetic' by default.\n",
      "  FutureWarning)\n"
     ]
    },
    {
     "data": {
      "text/plain": [
       "0.1799165677964007"
      ]
     },
     "execution_count": 25,
     "metadata": {},
     "output_type": "execute_result"
    }
   ],
   "source": [
    "metrics.adjusted_mutual_info_score(np.reshape(gt2,len(gt2)),clus.labels_)"
   ]
  },
  {
   "cell_type": "code",
   "execution_count": 31,
   "metadata": {},
   "outputs": [
    {
     "name": "stderr",
     "output_type": "stream",
     "text": [
      "/Users/charlescoen/miniconda3/envs/ntds_2018/lib/python3.6/site-packages/sklearn/metrics/cluster/supervised.py:732: FutureWarning: The behavior of AMI will change in version 0.22. To match the behavior of 'v_measure_score', AMI will use average_method='arithmetic' by default.\n",
      "  FutureWarning)\n"
     ]
    },
    {
     "name": "stdout",
     "output_type": "stream",
     "text": [
      "For type clustering bi, with distance euclidean and number of cluster 3, metric of: 0.023759\n"
     ]
    },
    {
     "name": "stderr",
     "output_type": "stream",
     "text": [
      "/Users/charlescoen/miniconda3/envs/ntds_2018/lib/python3.6/site-packages/sklearn/metrics/cluster/supervised.py:732: FutureWarning: The behavior of AMI will change in version 0.22. To match the behavior of 'v_measure_score', AMI will use average_method='arithmetic' by default.\n",
      "  FutureWarning)\n"
     ]
    },
    {
     "name": "stdout",
     "output_type": "stream",
     "text": [
      "For type clustering bi, with distance euclidean and number of cluster 6, metric of: 0.085877\n"
     ]
    },
    {
     "name": "stderr",
     "output_type": "stream",
     "text": [
      "/Users/charlescoen/miniconda3/envs/ntds_2018/lib/python3.6/site-packages/sklearn/metrics/cluster/supervised.py:732: FutureWarning: The behavior of AMI will change in version 0.22. To match the behavior of 'v_measure_score', AMI will use average_method='arithmetic' by default.\n",
      "  FutureWarning)\n"
     ]
    },
    {
     "name": "stdout",
     "output_type": "stream",
     "text": [
      "For type clustering bi, with distance cosine and number of cluster 3, metric of: 0.271017\n"
     ]
    },
    {
     "name": "stderr",
     "output_type": "stream",
     "text": [
      "/Users/charlescoen/miniconda3/envs/ntds_2018/lib/python3.6/site-packages/sklearn/metrics/cluster/supervised.py:732: FutureWarning: The behavior of AMI will change in version 0.22. To match the behavior of 'v_measure_score', AMI will use average_method='arithmetic' by default.\n",
      "  FutureWarning)\n"
     ]
    },
    {
     "name": "stdout",
     "output_type": "stream",
     "text": [
      "For type clustering bi, with distance cosine and number of cluster 6, metric of: 0.269137\n"
     ]
    },
    {
     "name": "stderr",
     "output_type": "stream",
     "text": [
      "/Users/charlescoen/miniconda3/envs/ntds_2018/lib/python3.6/site-packages/sklearn/metrics/cluster/supervised.py:732: FutureWarning: The behavior of AMI will change in version 0.22. To match the behavior of 'v_measure_score', AMI will use average_method='arithmetic' by default.\n",
      "  FutureWarning)\n"
     ]
    },
    {
     "name": "stdout",
     "output_type": "stream",
     "text": [
      "For type clustering hd, with distance euclidean and number of cluster 3, metric of: 0.108976\n"
     ]
    },
    {
     "name": "stderr",
     "output_type": "stream",
     "text": [
      "/Users/charlescoen/miniconda3/envs/ntds_2018/lib/python3.6/site-packages/sklearn/metrics/cluster/supervised.py:732: FutureWarning: The behavior of AMI will change in version 0.22. To match the behavior of 'v_measure_score', AMI will use average_method='arithmetic' by default.\n",
      "  FutureWarning)\n"
     ]
    },
    {
     "name": "stdout",
     "output_type": "stream",
     "text": [
      "For type clustering hd, with distance euclidean and number of cluster 6, metric of: 0.140594\n"
     ]
    },
    {
     "name": "stderr",
     "output_type": "stream",
     "text": [
      "/Users/charlescoen/miniconda3/envs/ntds_2018/lib/python3.6/site-packages/sklearn/metrics/cluster/supervised.py:732: FutureWarning: The behavior of AMI will change in version 0.22. To match the behavior of 'v_measure_score', AMI will use average_method='arithmetic' by default.\n",
      "  FutureWarning)\n"
     ]
    },
    {
     "name": "stdout",
     "output_type": "stream",
     "text": [
      "For type clustering hd, with distance cosine and number of cluster 3, metric of: 0.119708\n"
     ]
    },
    {
     "name": "stderr",
     "output_type": "stream",
     "text": [
      "/Users/charlescoen/miniconda3/envs/ntds_2018/lib/python3.6/site-packages/sklearn/metrics/cluster/supervised.py:732: FutureWarning: The behavior of AMI will change in version 0.22. To match the behavior of 'v_measure_score', AMI will use average_method='arithmetic' by default.\n",
      "  FutureWarning)\n"
     ]
    },
    {
     "name": "stdout",
     "output_type": "stream",
     "text": [
      "For type clustering hd, with distance cosine and number of cluster 6, metric of: 0.006982\n"
     ]
    },
    {
     "name": "stderr",
     "output_type": "stream",
     "text": [
      "/Users/charlescoen/miniconda3/envs/ntds_2018/lib/python3.6/site-packages/sklearn/metrics/cluster/supervised.py:732: FutureWarning: The behavior of AMI will change in version 0.22. To match the behavior of 'v_measure_score', AMI will use average_method='arithmetic' by default.\n",
      "  FutureWarning)\n"
     ]
    },
    {
     "name": "stdout",
     "output_type": "stream",
     "text": [
      "For type clustering km, with distance euclidean and number of cluster 3, metric of: 0.034915\n"
     ]
    },
    {
     "name": "stderr",
     "output_type": "stream",
     "text": [
      "/Users/charlescoen/miniconda3/envs/ntds_2018/lib/python3.6/site-packages/sklearn/metrics/cluster/supervised.py:732: FutureWarning: The behavior of AMI will change in version 0.22. To match the behavior of 'v_measure_score', AMI will use average_method='arithmetic' by default.\n",
      "  FutureWarning)\n"
     ]
    },
    {
     "name": "stdout",
     "output_type": "stream",
     "text": [
      "For type clustering km, with distance euclidean and number of cluster 6, metric of: 0.106957\n"
     ]
    },
    {
     "name": "stderr",
     "output_type": "stream",
     "text": [
      "/Users/charlescoen/miniconda3/envs/ntds_2018/lib/python3.6/site-packages/sklearn/metrics/cluster/supervised.py:732: FutureWarning: The behavior of AMI will change in version 0.22. To match the behavior of 'v_measure_score', AMI will use average_method='arithmetic' by default.\n",
      "  FutureWarning)\n"
     ]
    },
    {
     "name": "stdout",
     "output_type": "stream",
     "text": [
      "For type clustering km, with distance cosine and number of cluster 3, metric of: 0.228274\n"
     ]
    },
    {
     "name": "stderr",
     "output_type": "stream",
     "text": [
      "/Users/charlescoen/miniconda3/envs/ntds_2018/lib/python3.6/site-packages/sklearn/metrics/cluster/supervised.py:732: FutureWarning: The behavior of AMI will change in version 0.22. To match the behavior of 'v_measure_score', AMI will use average_method='arithmetic' by default.\n",
      "  FutureWarning)\n"
     ]
    },
    {
     "name": "stdout",
     "output_type": "stream",
     "text": [
      "For type clustering km, with distance cosine and number of cluster 6, metric of: 0.196174\n"
     ]
    },
    {
     "name": "stderr",
     "output_type": "stream",
     "text": [
      "/Users/charlescoen/miniconda3/envs/ntds_2018/lib/python3.6/site-packages/sklearn/metrics/cluster/supervised.py:732: FutureWarning: The behavior of AMI will change in version 0.22. To match the behavior of 'v_measure_score', AMI will use average_method='arithmetic' by default.\n",
      "  FutureWarning)\n"
     ]
    },
    {
     "name": "stdout",
     "output_type": "stream",
     "text": [
      "For type clustering sc, with distance euclidean and number of cluster 3, metric of: 0.265946\n"
     ]
    },
    {
     "name": "stderr",
     "output_type": "stream",
     "text": [
      "/Users/charlescoen/miniconda3/envs/ntds_2018/lib/python3.6/site-packages/sklearn/metrics/cluster/supervised.py:732: FutureWarning: The behavior of AMI will change in version 0.22. To match the behavior of 'v_measure_score', AMI will use average_method='arithmetic' by default.\n",
      "  FutureWarning)\n"
     ]
    },
    {
     "name": "stdout",
     "output_type": "stream",
     "text": [
      "For type clustering sc, with distance euclidean and number of cluster 6, metric of: 0.205650\n"
     ]
    },
    {
     "name": "stderr",
     "output_type": "stream",
     "text": [
      "/Users/charlescoen/miniconda3/envs/ntds_2018/lib/python3.6/site-packages/sklearn/metrics/cluster/supervised.py:732: FutureWarning: The behavior of AMI will change in version 0.22. To match the behavior of 'v_measure_score', AMI will use average_method='arithmetic' by default.\n",
      "  FutureWarning)\n"
     ]
    },
    {
     "name": "stdout",
     "output_type": "stream",
     "text": [
      "For type clustering sc, with distance cosine and number of cluster 3, metric of: 0.258726\n",
      "For type clustering sc, with distance cosine and number of cluster 6, metric of: 0.161301\n"
     ]
    },
    {
     "name": "stderr",
     "output_type": "stream",
     "text": [
      "/Users/charlescoen/miniconda3/envs/ntds_2018/lib/python3.6/site-packages/sklearn/metrics/cluster/supervised.py:732: FutureWarning: The behavior of AMI will change in version 0.22. To match the behavior of 'v_measure_score', AMI will use average_method='arithmetic' by default.\n",
      "  FutureWarning)\n"
     ]
    }
   ],
   "source": [
    "typ_clust = ['bi','hd','km','sc']\n",
    "typ_dist = ['euclidean','cosine']\n",
    "nb_clust = [3,6]\n",
    "for i in typ_clust:\n",
    "    for j in typ_dist:\n",
    "        for k in nb_clust:\n",
    "            clus = spectral_clustering(features,j,1,gt,0,'norm',k,i)\n",
    "            met = metrics.adjusted_mutual_info_score(np.reshape(gt2,len(gt2)),clus.labels_)\n",
    "            print('For type clustering %s, with distance %s and number of cluster %i, metric of: %f' %(i,j,k,met))"
   ]
  },
  {
   "cell_type": "code",
   "execution_count": null,
   "metadata": {},
   "outputs": [],
   "source": []
  }
 ],
 "metadata": {
  "kernelspec": {
   "display_name": "Python 3",
   "language": "python",
   "name": "python3"
  },
  "language_info": {
   "codemirror_mode": {
    "name": "ipython",
    "version": 3
   },
   "file_extension": ".py",
   "mimetype": "text/x-python",
   "name": "python",
   "nbconvert_exporter": "python",
   "pygments_lexer": "ipython3",
   "version": "3.6.6"
  }
 },
 "nbformat": 4,
 "nbformat_minor": 2
}
