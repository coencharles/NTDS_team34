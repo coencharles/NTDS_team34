{
 "cells": [
  {
   "cell_type": "markdown",
   "metadata": {},
   "source": [
    "# [NTDS'18] milestone 2: network models\n",
    "[ntds'18]: https://github.com/mdeff/ntds_2018\n",
    "\n",
    "[Hermina Petric Maretic](https://people.epfl.ch/hermina.petricmaretic), [EPFL LTS4](https://lts4.epfl.ch)"
   ]
  },
  {
   "cell_type": "markdown",
   "metadata": {},
   "source": [
    "## Students\n",
    "\n",
    "* Team: `34`\n",
    "* Students: `<Valentin Morel, Xavier Sieber, Cédric Schumacher, Charles-Théophile Coen>`\n",
    "* Dataset: `<Terrorist attack>`"
   ]
  },
  {
   "cell_type": "markdown",
   "metadata": {},
   "source": [
    "## Rules\n",
    "\n",
    "* Milestones have to be completed by teams. No collaboration between teams is allowed.\n",
    "* Textual answers shall be short. Typically one to two sentences.\n",
    "* Code has to be clean.\n",
    "* In the first part, you cannot import any other library than we imported. In the second part, you are allowed to import any library you want.\n",
    "* When submitting, the notebook is executed and the results are stored. I.e., if you open the notebook again it should show numerical results and plots. We won't be able to execute your notebooks.\n",
    "* The notebook is re-executed from a blank state before submission. That is to be sure it is reproducible. You can click \"Kernel\" then \"Restart & Run All\" in Jupyter."
   ]
  },
  {
   "cell_type": "markdown",
   "metadata": {},
   "source": [
    "## Objective\n",
    "\n",
    "The purpose of this milestone is to explore various random network models, analyse their properties and compare them to your network. In the first part of the milestone you will implement two random graph models and try to fit them to your network. In this part you are not allowed to use any additional package. In the second part of the milestone you will choose a third random graph model that you think shares some properties with your network. You will be allowed to use additional packages to construct this network, but you must explain your network choice. Finally, make your code as clean as possible, and keep your textual answers short."
   ]
  },
  {
   "cell_type": "markdown",
   "metadata": {},
   "source": [
    "## Part 0\n",
    "\n",
    "Import the adjacency matrix of your graph that you constructed in milestone 1, as well as the number of nodes and edges of your network."
   ]
  },
  {
   "cell_type": "code",
   "execution_count": 1,
   "metadata": {},
   "outputs": [],
   "source": [
    "import numpy as np\n",
    "\n",
    "adjacency = np.load('Adjacency1.npy') # the adjacency matrix\n",
    "n_nodes = len(adjacency) # the number of nodes in the network\n",
    "\n",
    "def number_edges(adjacency_matrix):\n",
    "    n = 0\n",
    "    length = len(adjacency_matrix)\n",
    "    \n",
    "    for i in range(0,length):\n",
    "        for j in range(i,length):\n",
    "            n = n + adjacency_matrix[i,j]\n",
    "    return n\n",
    "            \n",
    "n_edges = number_edges(adjacency) # the number of edges in the network"
   ]
  },
  {
   "cell_type": "markdown",
   "metadata": {},
   "source": [
    "## Part 1\n",
    "\n",
    "**For the computation of this part of the milestone you are only allowed to use the packages that have been imported in the cell below.**"
   ]
  },
  {
   "cell_type": "code",
   "execution_count": 2,
   "metadata": {},
   "outputs": [],
   "source": [
    "%matplotlib inline\n",
    "\n",
    "import random\n",
    "\n",
    "import numpy as np\n",
    "import pandas as pd\n",
    "import matplotlib.pyplot as plt\n",
    "import scipy"
   ]
  },
  {
   "cell_type": "markdown",
   "metadata": {},
   "source": [
    "### Question 1\n",
    "\n",
    "Create a function that constructs an Erdős–Rényi graph."
   ]
  },
  {
   "cell_type": "code",
   "execution_count": 3,
   "metadata": {},
   "outputs": [],
   "source": [
    "def erdos_renyi(n, p, seed=None):\n",
    "    \"\"\"Create an instance from the Erdos-Renyi graph model.\n",
    "    \n",
    "    Parameters\n",
    "    ----------\n",
    "    n: int\n",
    "        Size of the graph.\n",
    "    p: float\n",
    "        Edge probability. A number between 0 and 1.\n",
    "    seed: int (optional)\n",
    "        Seed for the random number generator. To get reproducible results.\n",
    "    \n",
    "    Returns\n",
    "    -------\n",
    "    adjacency\n",
    "        The adjacency matrix of a graph.\n",
    "    \"\"\"\n",
    "    \n",
    "    # Your code here.\n",
    "    adjacency = np.zeros((n,n))\n",
    "    random.seed(seed)\n",
    "    \n",
    "    for i in range(0,n):\n",
    "        for j in range(i+1,n):\n",
    "            proba = random.random()\n",
    "            #print(proba)\n",
    "            if proba <= p: #check if the random probability generated is <= p; if so, put the matrix element to 1\n",
    "                adjacency[i,j] = 1\n",
    "                adjacency[j,i] = 1\n",
    "                \n",
    "    return adjacency"
   ]
  },
  {
   "cell_type": "code",
   "execution_count": 4,
   "metadata": {
    "scrolled": true
   },
   "outputs": [
    {
     "data": {
      "image/png": "[encoded data removed]",
      "text/plain": [
       "<Figure size 432x288 with 1 Axes>"
      ]
     },
     "metadata": {},
     "output_type": "display_data"
    }
   ],
   "source": [
    "er = erdos_renyi(5, 0.6, 9765)\n",
    "plt.spy(er)\n",
    "plt.title('Erdos-Renyi (5, 0.6)');"
   ]
  },
  {
   "cell_type": "code",
   "execution_count": 5,
   "metadata": {
    "scrolled": true
   },
   "outputs": [
    {
     "data": {
      "image/png": "[encoded data removed]",
      "text/plain": [
       "<Figure size 432x288 with 1 Axes>"
      ]
     },
     "metadata": {},
     "output_type": "display_data"
    }
   ],
   "source": [
    "er = erdos_renyi(10, 0.4, 7648)\n",
    "plt.spy(er)\n",
    "plt.title('Erdos-Renyi (10, 0.4)');"
   ]
  },
  {
   "cell_type": "markdown",
   "metadata": {},
   "source": [
    "### Question 2\n",
    "\n",
    "Use the function to create a random Erdos-Renyi graph. Choose the parameters such that number of nodes is the same as in your graph, and the number of edges similar. You don't need to set the random seed. Comment on your choice of parameters."
   ]
  },
  {
   "cell_type": "code",
   "execution_count": 6,
   "metadata": {},
   "outputs": [
    {
     "data": {
      "image/png": "[encoded data removed]",
      "text/plain": [
       "<Figure size 432x288 with 1 Axes>"
      ]
     },
     "metadata": {},
     "output_type": "display_data"
    }
   ],
   "source": [
    "# Your code here.\n",
    "n = n_nodes\n",
    "total_edges_possible = n *(n-1)/2\n",
    "p = n_edges/total_edges_possible\n",
    "er_network = erdos_renyi(n, p, 9603)\n",
    "plt.spy(er_network)\n",
    "plt.title('Erdos-Renyi (N_nodes, P_edges)')\n",
    "\n",
    "plt.show()"
   ]
  },
  {
   "cell_type": "markdown",
   "metadata": {},
   "source": [
    "### **Your answer here.**\n",
    "For the number of nodes (n), we simply took the number of nodes in our data set. For the probability (p), we divide the number of edges present in our data set (3172) by the total number of possible edges in order to have the mean probability for two nodes to be linked. Obviously, we won't have the exact same number of edges, but we are going to be close."
   ]
  },
  {
   "cell_type": "markdown",
   "metadata": {},
   "source": [
    "### Question 3\n",
    "\n",
    "Create a function that constructs a Barabási-Albert graph."
   ]
  },
  {
   "cell_type": "code",
   "execution_count": 7,
   "metadata": {},
   "outputs": [],
   "source": [
    "def barabasi_albert(n, m, m0=2, seed=None):\n",
    "    \"\"\"Create an instance from the Barabasi-Albert graph model.\n",
    "    \n",
    "    Parameters\n",
    "    ----------\n",
    "    n: int\n",
    "        Size of the graph.\n",
    "    m: int\n",
    "        Number of edges to attach from a new node to existing nodes.\n",
    "    seed: int (optional)\n",
    "\n",
    "        Seed for the random number generator. To get reproducible results.\n",
    "    \n",
    "    Returns\n",
    "    -------\n",
    "    adjacency\n",
    "        The adjacency matrix of a graph.\n",
    "    \"\"\"\n",
    "    \n",
    "    # Your code here.\n",
    "    adjacency = np.zeros((n,n))\n",
    "    random.seed(seed)\n",
    "    np.random.seed(seed)\n",
    "    \n",
    "    #creation of a random network with k = m0 nodes (but k >= 2) – each node needs at least one edge\n",
    "    if m0 < 2:\n",
    "        k = 2\n",
    "    else:\n",
    "        k = m0\n",
    "    \n",
    "    for i in range(0,k): #in this loop, for each initial node, a random edge is formed between one node of the inital network \n",
    "        numbers = [l for l in range(0,k) if l != i] #we exclude the scenario where the node links itself\n",
    "        random_node = random.choice(numbers)\n",
    "        adjacency[i,random_node] = 1\n",
    "        adjacency[random_node,i] = 1 \n",
    "        \n",
    "    #adding new nodes with each m edges – probabilty of linking between two nodes given by BA\n",
    "    for i in range(k,n):\n",
    "        proba = []\n",
    "        \n",
    "        k_nom = adjacency.sum(axis = 0)\n",
    "        k_tot = adjacency.sum(axis = None)\n",
    "        \n",
    "        for j in range(0,i):\n",
    "            k_j = k_nom[j]\n",
    "            proba = np.hstack((proba,k_j/k_tot)) #probability of linking between node_i and the existing nodes\n",
    "                \n",
    "        available_nodes = list(np.arange(0,i))\n",
    "        proba_list = list(proba)\n",
    "        linked_nodes = np.random.choice(available_nodes, m, replace = False, p = proba_list) #choice of node depending on probability\n",
    "        \n",
    "        for k in range(0,len(linked_nodes)): #create a link between the node i to the m-chosen nodes\n",
    "            linked_node = linked_nodes[k]\n",
    "            adjacency[i,linked_node] = 1\n",
    "            adjacency[linked_node,i] = 1\n",
    "            \n",
    "    return adjacency"
   ]
  },
  {
   "cell_type": "code",
   "execution_count": 8,
   "metadata": {},
   "outputs": [
    {
     "data": {
      "image/png": "[encoded data removed]",
      "text/plain": [
       "<Figure size 432x288 with 1 Axes>"
      ]
     },
     "metadata": {},
     "output_type": "display_data"
    }
   ],
   "source": [
    "ba = barabasi_albert(5, 1, 2, 9087)\n",
    "plt.spy(ba)\n",
    "plt.title('Barabasi-Albert (5, 1)');"
   ]
  },
  {
   "cell_type": "code",
   "execution_count": 9,
   "metadata": {},
   "outputs": [
    {
     "data": {
      "image/png": "[encoded data removed]",
      "text/plain": [
       "<Figure size 432x288 with 1 Axes>"
      ]
     },
     "metadata": {},
     "output_type": "display_data"
    }
   ],
   "source": [
    "ba = barabasi_albert(10, 2, 3, 8708)\n",
    "plt.spy(ba)\n",
    "plt.title('Barabasi-Albert (10, 2)');"
   ]
  },
  {
   "cell_type": "markdown",
   "metadata": {},
   "source": [
    "### Question 4\n",
    "\n",
    "Use the function to create a random Barabási-Albert graph. Choose the parameters such that number of nodes is the same as in your graph, and the number of edges similar. You don't need to set the random seed. Comment on your choice of parameters."
   ]
  },
  {
   "cell_type": "code",
   "execution_count": 10,
   "metadata": {},
   "outputs": [
    {
     "data": {
      "image/png": "[encoded data removed]",
      "text/plain": [
       "<Figure size 432x288 with 1 Axes>"
      ]
     },
     "metadata": {},
     "output_type": "display_data"
    }
   ],
   "source": [
    "# Your code here.\n",
    "n = n_nodes\n",
    "m0 = 2\n",
    "m = int((n_edges - m0)/(n-m0))\n",
    "ba_network = barabasi_albert(n_nodes, m, m0, 9603)\n",
    "plt.spy(ba_network);"
   ]
  },
  {
   "cell_type": "markdown",
   "metadata": {},
   "source": [
    "**Your answer here**\n",
    "\n",
    "For the number of nodes, we simply chose the number of nodes in our network. For m0, we chose 2 and for the parameter m, we first calculated the exact number that we needed: the remaining number of edges that we have to put: n_edges - m0 (because each initial node (m0) has only one edge) divide by the remaining nodes that we have to add to the network: n-m0.\n",
    "\n",
    "\n",
    "Finally, the BA algorithm needs an integer for m, so we rounded down the exact m calculated, meaning that our new system is going to have less edges than our real network."
   ]
  },
  {
   "cell_type": "markdown",
   "metadata": {},
   "source": [
    "### Question 5\n",
    "\n",
    "Compare the number of edges in all three networks (your real network, the Erdős–Rényi network, and the Barabási-Albert netowk)."
   ]
  },
  {
   "cell_type": "code",
   "execution_count": 11,
   "metadata": {},
   "outputs": [
    {
     "name": "stdout",
     "output_type": "stream",
     "text": [
      "Number of edges in our real network: 3172 .\n",
      "Number of edges in the ER network: 3155 .\n",
      "Number of edges in the BA network: 2583 .\n"
     ]
    }
   ],
   "source": [
    "# Your code here.\n",
    "n_edges_ER = number_edges(er_network)            \n",
    "n_edges_BA = number_edges(ba_network)\n",
    "            \n",
    "print('Number of edges in our real network:', n_edges,'.\\n'\n",
    "            'Number of edges in the ER network:',int(n_edges_ER),'.\\n'\n",
    "                 'Number of edges in the BA network:', int(n_edges_BA), '.')"
   ]
  },
  {
   "cell_type": "markdown",
   "metadata": {},
   "source": [
    "### Question 6\n",
    "\n",
    "Implement a function that computes the [Kullback–Leibler (KL) divergence](https://en.wikipedia.org/wiki/Kullback%E2%80%93Leibler_divergence) between two probability distributions.\n",
    "We'll use it to compare the degree distributions of networks."
   ]
  },
  {
   "cell_type": "code",
   "execution_count": 12,
   "metadata": {},
   "outputs": [],
   "source": [
    "def kl_divergence(p, q):\n",
    "    \"\"\"Compute the KL divergence between probability distributions of degrees of two networks.\n",
    "    \n",
    "    Parameters\n",
    "    ----------\n",
    "    p: np.array\n",
    "        Probability distribution of degrees of the 1st graph.\n",
    "    q: np.array\n",
    "        Probability distribution of degrees of the 2nd graph.\n",
    "    \n",
    "    Returns\n",
    "    -------\n",
    "    kl\n",
    "        The KL divergence between the two distributions.\n",
    "    \"\"\"\n",
    "    \n",
    "    # Your code here.\n",
    "    length = len(p)\n",
    "    kl = 0\n",
    "    \n",
    "    for i in range(0,length):\n",
    "        if p[i] == 0:\n",
    "            kl = kl + 0\n",
    "        else:\n",
    "            kl = kl + p[i] * np.log(p[i]/q[i])\n",
    "        \n",
    "    return kl"
   ]
  },
  {
   "cell_type": "code",
   "execution_count": 13,
   "metadata": {},
   "outputs": [
    {
     "data": {
      "text/plain": [
       "0.09151622184943575"
      ]
     },
     "execution_count": 13,
     "metadata": {},
     "output_type": "execute_result"
    }
   ],
   "source": [
    "p_test = np.array([0.2, 0.2, 0.2, 0.4])\n",
    "q_test = np.array([0.3, 0.3, 0.1, 0.3])\n",
    "kl_divergence(p_test, q_test)"
   ]
  },
  {
   "cell_type": "markdown",
   "metadata": {},
   "source": [
    "### Question 7\n",
    "\n",
    "Compare the degree distribution of your network to each of the two synthetic ones, in terms of KL divergence. **Hint:** Make sure you normalise your degree distributions to make them valid probability distributions."
   ]
  },
  {
   "cell_type": "code",
   "execution_count": 14,
   "metadata": {},
   "outputs": [
    {
     "name": "stdout",
     "output_type": "stream",
     "text": [
      "KL divergence between our network and the ER synthetic newtork: 2.825814935685157 .\n",
      "KL divergence between our network and the BA synthetic newtork: 0.41441319011784317 .\n"
     ]
    }
   ],
   "source": [
    "# Your code here.\n",
    "degree_network = adjacency.sum(axis=0)\n",
    "w_network = np.ones_like(degree_network) / float(n_nodes)\n",
    "\n",
    "degree_ER = er_network.sum(axis=0)\n",
    "w_ER = np.ones_like(degree_ER) / float(n_nodes)\n",
    "\n",
    "degree_BA = ba_network.sum(axis=0)\n",
    "w_BA = np.ones_like(degree_BA) / float(n_nodes)\n",
    "\n",
    "# Creation of the bins for each synthetic network\n",
    "\n",
    "spacing_BA = [ 0., 3.,  4.,  5.,  6.,  7.,  8.,  9., 10., 11., 12.,13., 14., 15., 16., \n",
    "                    17., 18., 19., 20., 25., 30., 40., 60., 80., 84]\n",
    "\n",
    "spacing_ER = [ 0.,  1.,  2.,  3.,  4.,  5.,  6.,  7.,  8.,  9., 10., 11., 12., 13., 49.]\n",
    "\n",
    "hist_ER = np.histogram(degree_network, bins = spacing_ER, weights = w_network)[0]\n",
    "hist_synth_ER = np.histogram(degree_ER, bins = spacing_ER, weights = w_ER)[0]\n",
    "\n",
    "hist_BA = np.histogram(degree_network, bins = spacing_BA, weights = w_network)[0]\n",
    "hist_synth_BA = np.histogram(degree_BA, bins = spacing_BA, weights = w_BA)[0]\n",
    "\n",
    "print('KL divergence between our network and the ER synthetic newtork:',\n",
    "                                          kl_divergence(hist_ER,hist_synth_ER),'.\\n'\n",
    "       'KL divergence between our network and the BA synthetic newtork:',\n",
    "                                          kl_divergence(hist_BA,hist_synth_BA), '.')"
   ]
  },
  {
   "cell_type": "markdown",
   "metadata": {},
   "source": [
    "##### **Remarks**\n",
    "\n",
    "Concerning the **bins** option of the function *np.histogram*, here are some remarks:\n",
    "\n",
    "* the probability distribution of the synthetic network should never be equal to 0 (q[i]!=0), otherwise the KL divergence cannot be computed\n",
    "* we decided to create by hand the bins in order to generate probability distribution with no zero, without losing too much information\n",
    "* as our real network has mainly low degree nodes, we tried have as much bins as possible for the lower degree, and have larger bins for higher degree\n",
    "* this technique will be good enough for the BA synthethic network, because it has higher degree compared to our real network. However, for the ER synthetic network, this may not be the best option, because the highest degree of the ER model is smaller compared to the highest degree of the real network. Indeed, the high degree of the real network are going to be regrouped together, and create \"inaccurate\" information; this can be seen on the histogram."
   ]
  },
  {
   "cell_type": "markdown",
   "metadata": {},
   "source": [
    "### Question 8\n",
    "\n",
    "Plot the degree distribution historgrams for all three networks. Are they consistent with the KL divergence results? Explain."
   ]
  },
  {
   "cell_type": "code",
   "execution_count": 15,
   "metadata": {},
   "outputs": [
    {
     "data": {
      "image/png": "[encoded data removed]",
      "text/plain": [
       "<Figure size 432x288 with 2 Axes>"
      ]
     },
     "metadata": {},
     "output_type": "display_data"
    }
   ],
   "source": [
    "# Your code here.\n",
    "\n",
    "plt.subplot(2,1,2)\n",
    "plt.hist(degree_network, bins = spacing_BA, weights = w_network, fc = (1,0,0,0.7));\n",
    "plt.hist(degree_BA, bins = spacing_BA, weights = w_ER, fc = (0,1,0,0.6));\n",
    "plt.legend(['Real network', 'BA synthetic network']);\n",
    "plt.xlabel('Degree');\n",
    "plt.ylabel('Probability');\n",
    "plt.title('Real network vs Barabási-Albert  model');\n",
    "\n",
    "plt.subplot(2,1,1)\n",
    "plt.hist(degree_network, bins = spacing_ER, weights = w_network, fc = (1,0,0,0.7));\n",
    "plt.hist(degree_ER, bins = spacing_ER, weights = w_ER, fc = (0,0,1,0.5));\n",
    "plt.legend(['Real network', 'ER synthetic network']);\n",
    "plt.xlabel('Degree');\n",
    "plt.ylabel('Probability');\n",
    "plt.title('Real network vs Erdős–Rényi model');\n",
    "\n",
    "plt.tight_layout()"
   ]
  },
  {
   "cell_type": "markdown",
   "metadata": {},
   "source": [
    "**Your answer here.**\n",
    "\n",
    "The histograms seem consistent with our previous result. Indeed, we have a smaller KL divergence for the BA model, and the comparison between the histograms seems better with the BA model. As mentionned before, we were aware of the fact that our bins fabrication for the ER network was not going to be perfect and we can clearly see the problem for the real network, where all the higher degree are regrouped together."
   ]
  },
  {
   "cell_type": "markdown",
   "metadata": {},
   "source": [
    "### Question 9\n",
    "\n",
    "Imagine you got equal degree distributions. Would that guarantee you got the same graph? Explain."
   ]
  },
  {
   "cell_type": "markdown",
   "metadata": {},
   "source": [
    "**Your answer here.**\n",
    "\n",
    "Obviously not; as the degree distributions only represent the probabilty of having a certain degree, they give absolutely no information about the adjacency matrix (i.e. the graph). Indeed, we could have two completely different graphs, but when generating the degree distributions, have the same histogram. Moreover, as we normalize our distribution, we have absolutely no information about the number of nodes of the network, and two equal distributions, could not even have the same number of nodes!"
   ]
  },
  {
   "cell_type": "markdown",
   "metadata": {},
   "source": [
    "## Part 2\n",
    "\n",
    "**You are allowed to use any additional library here (e.g., NetworkX, PyGSP, etc.).** Be careful not to include something here and use it in part 1!"
   ]
  },
  {
   "cell_type": "code",
   "execution_count": 16,
   "metadata": {},
   "outputs": [],
   "source": [
    "import networkx as nx"
   ]
  },
  {
   "cell_type": "markdown",
   "metadata": {},
   "source": [
    "### Question 10\n",
    "\n",
    "Choose a random network model that fits you network well. Explain your choice. \n",
    "\n",
    "**Hint:** Check lecture notes for different network models and their properties. Your choice should be made based on at least one property you'd expect to be similar."
   ]
  },
  {
   "cell_type": "markdown",
   "metadata": {},
   "source": [
    "**Your answer here.**\n",
    "\n",
    "Characteristics of our network:\n",
    "\n",
    "* Average degree small compared to the number of nodes (4.906 << 1293)\n",
    "    * the degree distribution of our newtork is quite narrow and centered with our average degree\n",
    "* No real cluster and small number of highly connected nodes\n",
    "    * We, therefore, disregarded the random network that can be created with the following functions: powerlaw_cluster_graph, random_clustered_graph \n",
    "* Does not follow a Poisson distribution\n",
    "    * We, therefore, disregarded the Watts Strogatz model\n",
    "\n",
    "\n",
    "Therefore, for the choice of the random network model, we are going to focus on the distribution of the degree. In order to compare our two networks, we are going to use the KL divergence to see if the probability distribution fits well, and plot the histogram in order to have a visual representation of the fit.\n",
    "\n",
    "In conclusion, we are going to use the duplication divergence model, as we found out that it was the best fitting model, in the following section, and compare it with our real network."
   ]
  },
  {
   "cell_type": "markdown",
   "metadata": {},
   "source": [
    "### Question 11\n",
    "\n",
    "Explain (in short) how the chosen model works."
   ]
  },
  {
   "cell_type": "markdown",
   "metadata": {},
   "source": [
    "**Your answer here.**\n",
    "\n",
    "The duplication divergence is a model with n nodes. For the creation of the network, the new node is a duplication of an existing node, with the same edges as the existing node. With a probability p the edges of the new node are kept or not. "
   ]
  },
  {
   "cell_type": "markdown",
   "metadata": {},
   "source": [
    "### Question 12\n",
    "\n",
    "Create a random graph from that model, such that the number of nodes is the same as in your graph."
   ]
  },
  {
   "cell_type": "code",
   "execution_count": 17,
   "metadata": {},
   "outputs": [
    {
     "data": {
      "image/png": "[encoded data removed]",
      "text/plain": [
       "<Figure size 432x288 with 1 Axes>"
      ]
     },
     "metadata": {},
     "output_type": "display_data"
    }
   ],
   "source": [
    "# Your code here.\n",
    "\n",
    "n = n_nodes\n",
    "m = n_edges\n",
    "p = 85 * m/(n *(n-1)/2) # retention probability, see Remarks\n",
    "\n",
    "G = nx.duplication_divergence_graph(n, p, 9603)\n",
    "\n",
    "spacing = np.linspace(0, 43, 44) # highest degree present in the DD model is 43\n",
    "plt.hist(list(dict(nx.degree(G)).values()),bins = spacing, weights = w_network)\n",
    "plt.legend(['Duplication divergence network']);\n",
    "plt.xlabel('Degree');\n",
    "plt.ylabel('Probability');\n",
    "plt.title('Duplication divergence network');"
   ]
  },
  {
   "cell_type": "markdown",
   "metadata": {},
   "source": [
    "##### **Remark**\n",
    "\n",
    "The p is called retention probability and has been chosen so that the number of edges between the duplication divergence network and our real network correspond the best."
   ]
  },
  {
   "cell_type": "markdown",
   "metadata": {},
   "source": [
    "### Question 13\n",
    "\n",
    "Check the properties you expected to be similar, and compare to your network."
   ]
  },
  {
   "cell_type": "code",
   "execution_count": 18,
   "metadata": {},
   "outputs": [],
   "source": [
    "# Your code here.\n",
    "\n",
    "def info_graph (graph, space):\n",
    "    \n",
    "    mean_degree = np.mean(list(dict(nx.degree(graph)).values()))\n",
    "    real_mean_degree = np.mean(adjacency.sum(axis=0))\n",
    "    \n",
    "    n_edges_DD = number_edges(nx.adjacency_matrix(graph).todense())\n",
    "    \n",
    "    p = np.histogram(degree_network, bins = space, weights = w_network)[0]\n",
    "    q = np.histogram(list(dict(nx.degree(graph)).values()), bins = space, weights = w_network)[0]\n",
    "    if np.amin(q)!=0:\n",
    "        KL_diver = kl_divergence(p,q)\n",
    "    \n",
    "    plt.hist(list(dict(nx.degree(graph)).values()),bins = space, weights = w_network, fc = (0,1,0,0.7))\n",
    "    plt.hist(degree_network, bins = space, weights = w_network, fc = (1,0,0,0.7))\n",
    "    plt.legend(['Duplication divergence network','Real network']);\n",
    "    plt.show\n",
    "    \n",
    "    if np.amin(q)!=0:\n",
    "        \n",
    "        print('Mean degree of the DD model: %0.4f; mean degree of the real network: %0.4f \\n' \n",
    "               'Number of edges of the DD model: %d; number of edges of the real network: %d \\n'\n",
    "                  'KL divergence: %0.4f'% \n",
    "                          (mean_degree, real_mean_degree, n_edges_DD, n_edges, KL_diver))\n",
    "\n",
    "    else:\n",
    "        print('Problem with KL divergence, q[i] = 0.')\n"
   ]
  },
  {
   "cell_type": "code",
   "execution_count": 19,
   "metadata": {},
   "outputs": [
    {
     "name": "stdout",
     "output_type": "stream",
     "text": [
      "Mean degree of the DD model: 4.5568; mean degree of the real network: 4.9064 \n",
      "Number of edges of the DD model: 2946; number of edges of the real network: 3172 \n",
      "KL divergence: 0.4624\n"
     ]
    },
    {
     "data": {
      "image/png": "[encoded data removed]",
      "text/plain": [
       "<Figure size 432x288 with 1 Axes>"
      ]
     },
     "metadata": {},
     "output_type": "display_data"
    }
   ],
   "source": [
    "spacing_DD = [ 0., 2.,  3.,  4.,  5.,  6.,  7.,  8.,  9., 10., 11., 12., 13., 14., 15., 16., 17.,\n",
    "              20., 21., 22., 23., 24., 25., 26., 27., 28., 35., 40., 41., 50., 70, 80]\n",
    "\n",
    "\n",
    "info_graph(G, spacing_DD)"
   ]
  },
  {
   "cell_type": "markdown",
   "metadata": {},
   "source": [
    "Are the results what you expected? Explain."
   ]
  },
  {
   "cell_type": "markdown",
   "metadata": {},
   "source": [
    "**Your answer here.**\n",
    "\n",
    "With this model, we obtained the best KL divergence compared to any other random network (except the BA model). We can see that the number of edges is quite similar compared to our real network. The first point that could be optimized in the creation of the duplication divergence model is the choice of p, the retention probability for new nodes; in our case, we took a probability so the number of edges would correspond to the original network, but we are sure there is a possible opitimization. Secondly, we plotted the histograms with the bins used for the KL divergence in order to highlight our second problem: as the probability distribution of the synthetic network is not non-null everywhere, we had to create artificial bins which could negatively impact our results.\n",
    "\n",
    "In conclusion, the duplication divergence model is good enough, but not the best. We think that a scale-free network would be a better fit for our network compared to a random network."
   ]
  }
 ],
 "metadata": {
  "kernelspec": {
   "display_name": "Python 3",
   "language": "python",
   "name": "python3"
  },
  "language_info": {
   "codemirror_mode": {
    "name": "ipython",
    "version": 3
   },
   "file_extension": ".py",
   "mimetype": "text/x-python",
   "name": "python",
   "nbconvert_exporter": "python",
   "pygments_lexer": "ipython3",
   "version": "3.6.6"
  }
 },
 "nbformat": 4,
 "nbformat_minor": 2
}
