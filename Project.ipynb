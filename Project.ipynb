{
 "cells": [
  {
   "cell_type": "markdown",
   "metadata": {},
   "source": [
    "# [NTDS'18] Team project\n",
    "[ntds'18]: https://github.com/mdeff/ntds_2018"
   ]
  },
  {
   "cell_type": "markdown",
   "metadata": {},
   "source": [
    "## Students\n",
    "\n",
    "* Team: `<34>`\n",
    "* Students: `<Valentin Morel, Xavier Sieber, Cédric Schumacher, Charles-Théophile Coen>`\n",
    "* Dataset: `<Terrorist attack>`"
   ]
  },
  {
   "cell_type": "code",
   "execution_count": 1,
   "metadata": {},
   "outputs": [],
   "source": [
    "%matplotlib inline\n",
    "\n",
    "import numpy as np\n",
    "import networkx as nx\n",
    "import pandas as pd\n",
    "from scipy import sparse\n",
    "import scipy.sparse.linalg\n",
    "from matplotlib import pyplot as plt\n",
    "from pyunlocbox import functions, solvers"
   ]
  },
  {
   "cell_type": "code",
   "execution_count": 50,
   "metadata": {},
   "outputs": [],
   "source": [
    "## Loading of files\n",
    "\n",
    "# Features: mean of 126; std of 149\n",
    "features = np.load('features_matrix.npy')\n",
    "\n",
    "# Labels\n",
    "labels =  np.load('labels_vector.npy')\n",
    "\n",
    "# Location\n",
    "adjacency_location = np.load('adjacency_location.npy')\n",
    "n_nodes = len(adjacency_location)\n",
    "location = np.load('location_vector.npy')\n",
    "\n",
    "# Weighted adjacency matrix of the distance from features\n",
    "adjacency_weights = np.load('adjacency_weights_matrix.npy')"
   ]
  },
  {
   "cell_type": "code",
   "execution_count": 3,
   "metadata": {},
   "outputs": [],
   "source": [
    "## Definition of fonctions\n",
    "\n",
    "def distance_weighted(i,j):\n",
    "    return adjacency_weights[i,j]"
   ]
  },
  {
   "cell_type": "code",
   "execution_count": 12,
   "metadata": {},
   "outputs": [
    {
     "data": {
      "image/png": "[encoded data removed]",
      "text/plain": [
       "<Figure size 432x288 with 1 Axes>"
      ]
     },
     "metadata": {},
     "output_type": "display_data"
    }
   ],
   "source": [
    "# Visualization of the distrubution of the distances of features\n",
    "weights_hist = np.zeros(int(n_nodes*(n_nodes-1)/2))\n",
    "n = 0\n",
    "for i in range(0,n_nodes):\n",
    "    for j in range(i+1,n_nodes):\n",
    "        weights_hist[n] = adjacency_weights[i,j]\n",
    "        n += 1\n",
    "plt.hist(weights_hist, bins = np.linspace(0,1,100))   \n",
    "plt.show()"
   ]
  },
  {
   "cell_type": "markdown",
   "metadata": {},
   "source": [
    "##### **Remarks**\n",
    "The adjacency_weights matrix allow us to picture the difference between two features. The smaller the value between two node's features the more similar they are in terms of their features."
   ]
  },
  {
   "cell_type": "code",
   "execution_count": 13,
   "metadata": {},
   "outputs": [],
   "source": [
    "unique_ele, unique_indices, unique_counts = np.unique(location, return_index = True, return_counts = True)\n",
    "mapping = {}\n",
    "for i in range(0,len(unique_ele)):\n",
    "    if unique_counts[i] > 1:\n",
    "        mapping[unique_ele[i]] = {'numbers':unique_counts[i], 'indices':np.where(location == unique_ele[i])[0]}\n",
    "        \n",
    "\n",
    "# List of keys of the dictionnary\n",
    "keys = list(mapping.keys())\n",
    "# List of values of dict containing numbers and indices of nodes with the same location\n",
    "values = list(mapping.values()) \n",
    "# List of all the indexes of locations with more than one attack\n",
    "index_attack = []\n",
    "for i in range(0,len(keys)):\n",
    "    index_attack.append(list(mapping[keys[i]]['indices']))\n",
    "    \n",
    "index_attack = [val for sublist in index_attack for val in sublist]   "
   ]
  },
  {
   "cell_type": "code",
   "execution_count": 14,
   "metadata": {},
   "outputs": [],
   "source": [
    "weights_dict = {}\n",
    "for i in keys:\n",
    "    num_nodes_same_loc = mapping[i]['numbers']\n",
    "    distances = np.zeros(int((num_nodes_same_loc)*(num_nodes_same_loc-1)/2))\n",
    "    index = 0\n",
    "    for j in range(0,num_nodes_same_loc):\n",
    "        for k in range(j+1,num_nodes_same_loc):\n",
    "            distances[index] = distance_weighted(mapping[i]['indices'][j],mapping[i]['indices'][k])\n",
    "            index += 1\n",
    "\n",
    "    weights_dict[i] = {'distances':distances, 'mean': np.mean(distances), 'std': np.std(distances)}"
   ]
  },
  {
   "cell_type": "code",
   "execution_count": 15,
   "metadata": {},
   "outputs": [],
   "source": [
    "labels_dict = {}\n",
    "for i in keys:\n",
    "    num_nodes_same_loc = mapping[i]['numbers']\n",
    "    lab = []\n",
    "    for j in range(0,num_nodes_same_loc):\n",
    "        lab.append(labels[mapping[i]['indices'][j]][0])\n",
    "\n",
    "    labels_dict[i] = lab\n",
    "\n",
    "recap_label = {}\n",
    "for i in keys:\n",
    "    unique_ele, unique_counts = np.unique(labels_dict[i], return_counts = True)\n",
    "    total_attacks = mapping[i]['numbers']\n",
    "    list_attacks = [];\n",
    "    for j in range(0,len(unique_ele)):\n",
    "        list_attacks.append({unique_ele[j]: np.round(unique_counts[j]/total_attacks*100)})\n",
    "\n",
    "    list_attacks.append(total_attacks)\n",
    "    recap_label[i] =  list_attacks"
   ]
  },
  {
   "cell_type": "code",
   "execution_count": 45,
   "metadata": {},
   "outputs": [],
   "source": [
    "def plot_recap_label(k):\n",
    "    \n",
    "    numb = np.size(recap_label[k])-1\n",
    "    x = []\n",
    "    y = []\n",
    "    for i in range(0,numb):\n",
    "        x.append(list(recap_label[k][i].keys()))\n",
    "        y.append(list(recap_label[k][i].values()))\n",
    "        \n",
    "    x = [val for sublist in x for val in sublist]\n",
    "    y = [val for sublist in y for val in sublist] \n",
    "    \n",
    "    plt.bar(x,y)\n",
    "    plt.title('Distribution of attacks for location %i. Number of attacks at this location: %i.' %(k ,recap_label[k][-1]))\n",
    "    plt.show()\n",
    "    return"
   ]
  },
  {
   "cell_type": "markdown",
   "metadata": {},
   "source": [
    "##### **Remarks**\n",
    "The *mapping* dictionary contains the locations where multiple attacks were perpetrated. For each location, the number of attacks(n) is specified and the indices of the nodes are stored in an array.\n",
    "\n",
    "The *weights_dict* dictionary contains the weighted distance in terms of features between every attacks perpetrated at the same location. The distances are stored in an array of *(n-1)n/2* values where n is the number of attacks at this location. The goal of this dictionary is to find any links between the colocated attacks and their features.\n",
    "\n",
    "The *labels_dict* dictionary contains the type of attacks for the attacks perpetrated at the same location. *recap_label* dictionary is a summary of *labels_dict* with only the percentage for each type of attack. The goal of these dictionaries is to find any links between the colocated attacks and the type of attack."
   ]
  },
  {
   "cell_type": "code",
   "execution_count": 17,
   "metadata": {},
   "outputs": [
    {
     "data": {
      "image/png": "[encoded data removed]",
      "text/plain": [
       "<Figure size 1296x720 with 1 Axes>"
      ]
     },
     "metadata": {},
     "output_type": "display_data"
    }
   ],
   "source": [
    "x = list(weights_dict.keys())\n",
    "y = np.zeros(len(x))\n",
    "yerr = np.zeros(len(x))\n",
    "index = 0\n",
    "for i in x:\n",
    "    y[index] = weights_dict[i]['mean']\n",
    "    yerr[index] = weights_dict[i]['std']\n",
    "    index += 1\n",
    "\n",
    "plt.figure(figsize=(18,10))\n",
    "plt.errorbar(np.linspace(1,len(x),len(x)),y,yerr, linestyle='None',marker='x', markersize= 8,\n",
    "                    markeredgecolor = [1,0,0],capsize=5)\n",
    "plt.title('Mean value of weighted distances for locations with more than one attack')\n",
    "plt.show()"
   ]
  },
  {
   "cell_type": "code",
   "execution_count": 47,
   "metadata": {},
   "outputs": [
    {
     "data": {
      "image/png": "[encoded data removed]",
      "text/plain": [
       "<Figure size 432x288 with 1 Axes>"
      ]
     },
     "metadata": {},
     "output_type": "display_data"
    },
    {
     "data": {
      "text/plain": [
       "(None,\n",
       " {4.0: [{'Arson': 50.0}, {'Weapon_Attack': 50.0}, 2],\n",
       "  11.0: [{'Arson': 20.0}, {'Bombing': 80.0}, 5],\n",
       "  14.0: [{'Arson': 50.0}, {'Bombing': 50.0}, 2],\n",
       "  15.0: [{'Arson': 33.0}, {'Bombing': 67.0}, 3],\n",
       "  21.0: [{'Arson': 6.0}, {'Bombing': 56.0}, {'Weapon_Attack': 38.0}, 16],\n",
       "  54.0: [{'Bombing': 94.0}, {'Weapon_Attack': 6.0}, 16],\n",
       "  62.0: [{'Bombing': 100.0}, 5],\n",
       "  63.0: [{'Bombing': 67.0}, {'Weapon_Attack': 33.0}, 3],\n",
       "  83.0: [{'Bombing': 33.0}, {'Weapon_Attack': 67.0}, 3],\n",
       "  86.0: [{'Bombing': 100.0}, 5],\n",
       "  107.0: [{'Bombing': 100.0}, 5],\n",
       "  116.0: [{'Bombing': 50.0}, {'Weapon_Attack': 50.0}, 2],\n",
       "  127.0: [{'Bombing': 100.0}, 2],\n",
       "  135.0: [{'Bombing': 33.0}, {'Weapon_Attack': 67.0}, 3],\n",
       "  146.0: [{'Bombing': 50.0}, {'Weapon_Attack': 50.0}, 2],\n",
       "  162.0: [{'Bombing': 67.0}, {'Weapon_Attack': 33.0}, 3],\n",
       "  182.0: [{'Bombing': 100.0}, 7],\n",
       "  207.0: [{'Bombing': 50.0}, {'Weapon_Attack': 50.0}, 4],\n",
       "  208.0: [{'Bombing': 50.0}, {'Kidnapping': 50.0}, 2],\n",
       "  215.0: [{'Bombing': 100.0}, 2],\n",
       "  224.0: [{'Bombing': 17.0}, {'Kidnapping': 17.0}, {'Weapon_Attack': 67.0}, 6],\n",
       "  230.0: [{'Bombing': 50.0}, {'Weapon_Attack': 50.0}, 2],\n",
       "  243.0: [{'Bombing': 33.0}, {'Weapon_Attack': 67.0}, 3],\n",
       "  252.0: [{'Bombing': 80.0}, {'Weapon_Attack': 20.0}, 10],\n",
       "  253.0: [{'Bombing': 50.0}, {'Kidnapping': 50.0}, 2],\n",
       "  257.0: [{'Bombing': 50.0}, {'Kidnapping': 50.0}, 2],\n",
       "  260.0: [{'Bombing': 100.0}, 8],\n",
       "  267.0: [{'Bombing': 50.0}, {'Weapon_Attack': 50.0}, 2],\n",
       "  282.0: [{'Bombing': 25.0}, {'Kidnapping': 50.0}, {'Weapon_Attack': 25.0}, 4],\n",
       "  289.0: [{'Bombing': 50.0}, {'Kidnapping': 50.0}, 4],\n",
       "  295.0: [{'Bombing': 67.0}, {'Weapon_Attack': 33.0}, 3],\n",
       "  300.0: [{'Bombing': 50.0}, {'Kidnapping': 50.0}, 2],\n",
       "  304.0: [{'Bombing': 50.0}, {'Weapon_Attack': 50.0}, 2],\n",
       "  315.0: [{'Bombing': 67.0}, {'Weapon_Attack': 33.0}, 3],\n",
       "  321.0: [{'Bombing': 50.0}, {'Weapon_Attack': 50.0}, 2],\n",
       "  323.0: [{'Bombing': 100.0}, 2],\n",
       "  342.0: [{'Bombing': 100.0}, 2],\n",
       "  344.0: [{'Bombing': 100.0}, 4],\n",
       "  347.0: [{'Bombing': 100.0}, 2],\n",
       "  371.0: [{'Bombing': 50.0}, {'Weapon_Attack': 50.0}, 2],\n",
       "  381.0: [{'Bombing': 50.0}, {'Kidnapping': 50.0}, 2],\n",
       "  396.0: [{'Bombing': 25.0}, {'NBCR_Attack': 75.0}, 4],\n",
       "  419.0: [{'Bombing': 50.0}, {'Weapon_Attack': 50.0}, 2],\n",
       "  422.0: [{'Bombing': 50.0}, {'Weapon_Attack': 50.0}, 2],\n",
       "  423.0: [{'Bombing': 62.0}, {'Weapon_Attack': 38.0}, 8],\n",
       "  424.0: [{'Bombing': 50.0}, {'Weapon_Attack': 50.0}, 2],\n",
       "  429.0: [{'Bombing': 100.0}, 4],\n",
       "  436.0: [{'Bombing': 33.0}, {'Weapon_Attack': 67.0}, 3],\n",
       "  449.0: [{'Bombing': 100.0}, 2],\n",
       "  463.0: [{'Bombing': 50.0}, {'Weapon_Attack': 50.0}, 2],\n",
       "  499.0: [{'Bombing': 100.0}, 3],\n",
       "  526.0: [{'Kidnapping': 100.0}, 2],\n",
       "  541.0: [{'Kidnapping': 100.0}, 4],\n",
       "  543.0: [{'Kidnapping': 100.0}, 2],\n",
       "  546.0: [{'Kidnapping': 50.0}, {'Weapon_Attack': 50.0}, 2],\n",
       "  593.0: [{'Kidnapping': 20.0}, {'Weapon_Attack': 80.0}, 5],\n",
       "  636.0: [{'Kidnapping': 100.0}, 2],\n",
       "  641.0: [{'Kidnapping': 50.0}, {'Weapon_Attack': 50.0}, 2],\n",
       "  700.0: [{'Weapon_Attack': 100.0}, 2],\n",
       "  719.0: [{'Weapon_Attack': 100.0}, 6],\n",
       "  725.0: [{'Weapon_Attack': 100.0}, 2],\n",
       "  773.0: [{'Weapon_Attack': 100.0}, 2],\n",
       "  793.0: [{'Weapon_Attack': 100.0}, 2],\n",
       "  799.0: [{'Weapon_Attack': 100.0}, 2],\n",
       "  801.0: [{'Weapon_Attack': 100.0}, 3],\n",
       "  804.0: [{'Weapon_Attack': 100.0}, 2],\n",
       "  818.0: [{'Weapon_Attack': 100.0}, 2],\n",
       "  828.0: [{'Weapon_Attack': 100.0}, 2],\n",
       "  840.0: [{'Weapon_Attack': 100.0}, 2],\n",
       "  841.0: [{'Weapon_Attack': 100.0}, 2],\n",
       "  892.0: [{'Weapon_Attack': 100.0}, 2],\n",
       "  904.0: [{'Weapon_Attack': 100.0}, 2],\n",
       "  934.0: [{'Weapon_Attack': 100.0}, 2],\n",
       "  940.0: [{'Weapon_Attack': 100.0}, 3],\n",
       "  950.0: [{'Weapon_Attack': 100.0}, 2],\n",
       "  967.0: [{'Weapon_Attack': 100.0}, 2],\n",
       "  981.0: [{'Weapon_Attack': 100.0}, 2],\n",
       "  1025.0: [{'Weapon_Attack': 100.0}, 2]})"
      ]
     },
     "execution_count": 47,
     "metadata": {},
     "output_type": "execute_result"
    }
   ],
   "source": [
    "plot_recap_label(21), recap_label"
   ]
  },
  {
   "cell_type": "code",
   "execution_count": 19,
   "metadata": {},
   "outputs": [
    {
     "data": {
      "image/png": "[encoded data removed]",
      "text/plain": [
       "<Figure size 1296x720 with 1 Axes>"
      ]
     },
     "metadata": {},
     "output_type": "display_data"
    }
   ],
   "source": [
    "plt.figure(figsize=(18,10))\n",
    "y_single_attack = np.take(labels,index_attack)\n",
    "y_single_attack = np.reshape(y_single_attack,(y_single_attack.shape[0],1))\n",
    "\n",
    "y_multiple_attack = np.delete(labels,index_attack)\n",
    "y_multiple_attack = np.reshape(y_multiple_attack,(y_multiple_attack.shape[0],1))\n",
    "\n",
    "plt.hist(y_multiple_attack, bins = np.linspace(-1,7,17))\n",
    "plt.hist(y_single_attack, bins = np.linspace(-1,7,17))\n",
    "plt.legend(('Locations with only one attack','Locations with more than one attack'))\n",
    "plt.title('Distribution of types of attack for locations with one or more than one attacks')\n",
    "plt.show()"
   ]
  },
  {
   "cell_type": "markdown",
   "metadata": {},
   "source": [
    "##### **Remarks**\n",
    "\n",
    "We see that the distribution of types of attack is almost the same between the locations with more than one attack (in orange) and the locations with only one attack (blue)"
   ]
  },
  {
   "cell_type": "code",
   "execution_count": 58,
   "metadata": {},
   "outputs": [],
   "source": [
    "## Any ressemblance in terms of features for attacks with same label?\n",
    "# Creation of a dictionnary with the 6 different types of attack and the indices of the nodes with this type of attack\n",
    "\n",
    "unique_ele, unique_indices, unique_counts = np.unique(labels, return_index = True, return_counts = True)\n",
    "dict_labels = {}\n",
    "for i in range(0,len(unique_ele)):\n",
    "    dict_labels[unique_ele[i]] = {'numbers':unique_counts[i], 'indices':np.where(labels == unique_ele[i])[0]}\n",
    "        "
   ]
  },
  {
   "cell_type": "code",
   "execution_count": 59,
   "metadata": {},
   "outputs": [
    {
     "data": {
      "text/plain": [
       "{'Arson': {'numbers': 31,\n",
       "  'indices': array([ 0,  1,  2,  3,  4,  5,  6,  7,  8,  9, 10, 11, 12, 13, 14, 15, 16,\n",
       "         17, 18, 19, 20, 21, 22, 23, 24, 25, 26, 27, 28, 29, 30])},\n",
       " 'Bombing': {'numbers': 562,\n",
       "  'indices': array([ 31,  32,  33,  34,  35,  36,  37,  38,  39,  40,  41,  42,  43,\n",
       "          44,  45,  46,  47,  48,  49,  50,  51,  52,  53,  54,  55,  56,\n",
       "          57,  58,  59,  60,  61,  62,  63,  64,  65,  66,  67,  68,  69,\n",
       "          70,  71,  72,  73,  74,  75,  76,  77,  78,  79,  80,  81,  82,\n",
       "          83,  84,  85,  86,  87,  88,  89,  90,  91,  92,  93,  94,  95,\n",
       "          96,  97,  98,  99, 100, 101, 102, 103, 104, 105, 106, 107, 108,\n",
       "         109, 110, 111, 112, 113, 114, 115, 116, 117, 118, 119, 120, 121,\n",
       "         122, 123, 124, 125, 126, 127, 128, 129, 130, 131, 132, 133, 134,\n",
       "         135, 136, 137, 138, 139, 140, 141, 142, 143, 144, 145, 146, 147,\n",
       "         148, 149, 150, 151, 152, 153, 154, 155, 156, 157, 158, 159, 160,\n",
       "         161, 162, 163, 164, 165, 166, 167, 168, 169, 170, 171, 172, 173,\n",
       "         174, 175, 176, 177, 178, 179, 180, 181, 182, 183, 184, 185, 186,\n",
       "         187, 188, 189, 190, 191, 192, 193, 194, 195, 196, 197, 198, 199,\n",
       "         200, 201, 202, 203, 204, 205, 206, 207, 208, 209, 210, 211, 212,\n",
       "         213, 214, 215, 216, 217, 218, 219, 220, 221, 222, 223, 224, 225,\n",
       "         226, 227, 228, 229, 230, 231, 232, 233, 234, 235, 236, 237, 238,\n",
       "         239, 240, 241, 242, 243, 244, 245, 246, 247, 248, 249, 250, 251,\n",
       "         252, 253, 254, 255, 256, 257, 258, 259, 260, 261, 262, 263, 264,\n",
       "         265, 266, 267, 268, 269, 270, 271, 272, 273, 274, 275, 276, 277,\n",
       "         278, 279, 280, 281, 282, 283, 284, 285, 286, 287, 288, 289, 290,\n",
       "         291, 292, 293, 294, 295, 296, 297, 298, 299, 300, 301, 302, 303,\n",
       "         304, 305, 306, 307, 308, 309, 310, 311, 312, 313, 314, 315, 316,\n",
       "         317, 318, 319, 320, 321, 322, 323, 324, 325, 326, 327, 328, 329,\n",
       "         330, 331, 332, 333, 334, 335, 336, 337, 338, 339, 340, 341, 342,\n",
       "         343, 344, 345, 346, 347, 348, 349, 350, 351, 352, 353, 354, 355,\n",
       "         356, 357, 358, 359, 360, 361, 362, 363, 364, 365, 366, 367, 368,\n",
       "         369, 370, 371, 372, 373, 374, 375, 376, 377, 378, 379, 380, 381,\n",
       "         382, 383, 384, 385, 386, 387, 388, 389, 390, 391, 392, 393, 394,\n",
       "         395, 396, 397, 398, 399, 400, 401, 402, 403, 404, 405, 406, 407,\n",
       "         408, 409, 410, 411, 412, 413, 414, 415, 416, 417, 418, 419, 420,\n",
       "         421, 422, 423, 424, 425, 426, 427, 428, 429, 430, 431, 432, 433,\n",
       "         434, 435, 436, 437, 438, 439, 440, 441, 442, 443, 444, 445, 446,\n",
       "         447, 448, 449, 450, 451, 452, 453, 454, 455, 456, 457, 458, 459,\n",
       "         460, 461, 462, 463, 464, 465, 466, 467, 468, 469, 470, 471, 472,\n",
       "         473, 474, 475, 476, 477, 478, 479, 480, 481, 482, 483, 484, 485,\n",
       "         486, 487, 488, 489, 490, 491, 492, 493, 494, 495, 496, 497, 498,\n",
       "         499, 500, 501, 502, 503, 504, 505, 506, 507, 508, 509, 510, 511,\n",
       "         512, 513, 514, 515, 516, 517, 518, 519, 520, 521, 522, 523, 524,\n",
       "         525, 526, 527, 528, 529, 530, 531, 532, 533, 534, 535, 536, 537,\n",
       "         538, 539, 540, 541, 542, 543, 544, 545, 546, 547, 548, 549, 550,\n",
       "         551, 552, 553, 554, 555, 556, 557, 558, 559, 560, 561, 562, 563,\n",
       "         564, 565, 566, 567, 568, 569, 570, 571, 572, 573, 574, 575, 576,\n",
       "         577, 578, 579, 580, 581, 582, 583, 584, 585, 586, 587, 588, 589,\n",
       "         590, 591, 592])},\n",
       " 'Kidnapping': {'numbers': 179,\n",
       "  'indices': array([593, 594, 595, 596, 597, 598, 599, 600, 601, 602, 603, 604, 605,\n",
       "         606, 607, 608, 609, 610, 611, 612, 613, 614, 615, 616, 617, 618,\n",
       "         619, 620, 621, 622, 623, 624, 625, 626, 627, 628, 629, 630, 631,\n",
       "         632, 633, 634, 635, 636, 637, 638, 639, 640, 641, 642, 643, 644,\n",
       "         645, 646, 647, 648, 649, 650, 651, 652, 653, 654, 655, 656, 657,\n",
       "         658, 659, 660, 661, 662, 663, 664, 665, 666, 667, 668, 669, 670,\n",
       "         671, 672, 673, 674, 675, 676, 677, 678, 679, 680, 681, 682, 683,\n",
       "         684, 685, 686, 687, 688, 689, 690, 691, 692, 693, 694, 695, 696,\n",
       "         697, 698, 699, 700, 701, 702, 703, 704, 705, 706, 707, 708, 709,\n",
       "         710, 711, 712, 713, 714, 715, 716, 717, 718, 719, 720, 721, 722,\n",
       "         723, 724, 725, 726, 727, 728, 729, 730, 731, 732, 733, 734, 735,\n",
       "         736, 737, 738, 739, 740, 741, 742, 743, 744, 745, 746, 747, 748,\n",
       "         749, 750, 751, 752, 753, 754, 755, 756, 757, 758, 759, 760, 761,\n",
       "         762, 763, 764, 765, 766, 767, 768, 769, 770, 771])},\n",
       " 'NBCR_Attack': {'numbers': 8,\n",
       "  'indices': array([772, 773, 774, 775, 776, 777, 778, 779])},\n",
       " 'Weapon_Attack': {'numbers': 498,\n",
       "  'indices': array([ 795,  796,  797,  798,  799,  800,  801,  802,  803,  804,  805,\n",
       "          806,  807,  808,  809,  810,  811,  812,  813,  814,  815,  816,\n",
       "          817,  818,  819,  820,  821,  822,  823,  824,  825,  826,  827,\n",
       "          828,  829,  830,  831,  832,  833,  834,  835,  836,  837,  838,\n",
       "          839,  840,  841,  842,  843,  844,  845,  846,  847,  848,  849,\n",
       "          850,  851,  852,  853,  854,  855,  856,  857,  858,  859,  860,\n",
       "          861,  862,  863,  864,  865,  866,  867,  868,  869,  870,  871,\n",
       "          872,  873,  874,  875,  876,  877,  878,  879,  880,  881,  882,\n",
       "          883,  884,  885,  886,  887,  888,  889,  890,  891,  892,  893,\n",
       "          894,  895,  896,  897,  898,  899,  900,  901,  902,  903,  904,\n",
       "          905,  906,  907,  908,  909,  910,  911,  912,  913,  914,  915,\n",
       "          916,  917,  918,  919,  920,  921,  922,  923,  924,  925,  926,\n",
       "          927,  928,  929,  930,  931,  932,  933,  934,  935,  936,  937,\n",
       "          938,  939,  940,  941,  942,  943,  944,  945,  946,  947,  948,\n",
       "          949,  950,  951,  952,  953,  954,  955,  956,  957,  958,  959,\n",
       "          960,  961,  962,  963,  964,  965,  966,  967,  968,  969,  970,\n",
       "          971,  972,  973,  974,  975,  976,  977,  978,  979,  980,  981,\n",
       "          982,  983,  984,  985,  986,  987,  988,  989,  990,  991,  992,\n",
       "          993,  994,  995,  996,  997,  998,  999, 1000, 1001, 1002, 1003,\n",
       "         1004, 1005, 1006, 1007, 1008, 1009, 1010, 1011, 1012, 1013, 1014,\n",
       "         1015, 1016, 1017, 1018, 1019, 1020, 1021, 1022, 1023, 1024, 1025,\n",
       "         1026, 1027, 1028, 1029, 1030, 1031, 1032, 1033, 1034, 1035, 1036,\n",
       "         1037, 1038, 1039, 1040, 1041, 1042, 1043, 1044, 1045, 1046, 1047,\n",
       "         1048, 1049, 1050, 1051, 1052, 1053, 1054, 1055, 1056, 1057, 1058,\n",
       "         1059, 1060, 1061, 1062, 1063, 1064, 1065, 1066, 1067, 1068, 1069,\n",
       "         1070, 1071, 1072, 1073, 1074, 1075, 1076, 1077, 1078, 1079, 1080,\n",
       "         1081, 1082, 1083, 1084, 1085, 1086, 1087, 1088, 1089, 1090, 1091,\n",
       "         1092, 1093, 1094, 1095, 1096, 1097, 1098, 1099, 1100, 1101, 1102,\n",
       "         1103, 1104, 1105, 1106, 1107, 1108, 1109, 1110, 1111, 1112, 1113,\n",
       "         1114, 1115, 1116, 1117, 1118, 1119, 1120, 1121, 1122, 1123, 1124,\n",
       "         1125, 1126, 1127, 1128, 1129, 1130, 1131, 1132, 1133, 1134, 1135,\n",
       "         1136, 1137, 1138, 1139, 1140, 1141, 1142, 1143, 1144, 1145, 1146,\n",
       "         1147, 1148, 1149, 1150, 1151, 1152, 1153, 1154, 1155, 1156, 1157,\n",
       "         1158, 1159, 1160, 1161, 1162, 1163, 1164, 1165, 1166, 1167, 1168,\n",
       "         1169, 1170, 1171, 1172, 1173, 1174, 1175, 1176, 1177, 1178, 1179,\n",
       "         1180, 1181, 1182, 1183, 1184, 1185, 1186, 1187, 1188, 1189, 1190,\n",
       "         1191, 1192, 1193, 1194, 1195, 1196, 1197, 1198, 1199, 1200, 1201,\n",
       "         1202, 1203, 1204, 1205, 1206, 1207, 1208, 1209, 1210, 1211, 1212,\n",
       "         1213, 1214, 1215, 1216, 1217, 1218, 1219, 1220, 1221, 1222, 1223,\n",
       "         1224, 1225, 1226, 1227, 1228, 1229, 1230, 1231, 1232, 1233, 1234,\n",
       "         1235, 1236, 1237, 1238, 1239, 1240, 1241, 1242, 1243, 1244, 1245,\n",
       "         1246, 1247, 1248, 1249, 1250, 1251, 1252, 1253, 1254, 1255, 1256,\n",
       "         1257, 1258, 1259, 1260, 1261, 1262, 1263, 1264, 1265, 1266, 1267,\n",
       "         1268, 1269, 1270, 1271, 1272, 1273, 1274, 1275, 1276, 1277, 1278,\n",
       "         1279, 1280, 1281, 1282, 1283, 1284, 1285, 1286, 1287, 1288, 1289,\n",
       "         1290, 1291, 1292])},\n",
       " 'k': {'numbers': 15,\n",
       "  'indices': array([780, 781, 782, 783, 784, 785, 786, 787, 788, 789, 790, 791, 792,\n",
       "         793, 794])}}"
      ]
     },
     "execution_count": 59,
     "metadata": {},
     "output_type": "execute_result"
    }
   ],
   "source": [
    "dict_labels"
   ]
  },
  {
   "cell_type": "code",
   "execution_count": null,
   "metadata": {},
   "outputs": [],
   "source": []
  }
 ],
 "metadata": {
  "kernelspec": {
   "display_name": "Python 3",
   "language": "python",
   "name": "python3"
  },
  "language_info": {
   "codemirror_mode": {
    "name": "ipython",
    "version": 3
   },
   "file_extension": ".py",
   "mimetype": "text/x-python",
   "name": "python",
   "nbconvert_exporter": "python",
   "pygments_lexer": "ipython3",
   "version": "3.6.6"
  }
 },
 "nbformat": 4,
 "nbformat_minor": 2
}
